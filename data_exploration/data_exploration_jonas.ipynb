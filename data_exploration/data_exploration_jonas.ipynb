{
 "metadata": {
  "language_info": {
   "codemirror_mode": {
    "name": "ipython",
    "version": 3
   },
   "file_extension": ".py",
   "mimetype": "text/x-python",
   "name": "python",
   "nbconvert_exporter": "python",
   "pygments_lexer": "ipython3",
   "version": "3.8.1-final"
  },
  "orig_nbformat": 2,
  "kernelspec": {
   "name": "python38164bit460ab67809314f53b32d11a1fc144071",
   "display_name": "Python 3.8.1 64-bit",
   "language": "python"
  }
 },
 "nbformat": 4,
 "nbformat_minor": 2,
 "cells": [
  {
   "cell_type": "code",
   "execution_count": 2,
   "metadata": {},
   "outputs": [
    {
     "output_type": "execute_result",
     "data": {
      "text/plain": [
       "      eventId category  activeTime title  \\\n",
       "0  2029361762     None         NaN  None   \n",
       "1   351617637     None        41.0  None   \n",
       "2   483221791     None         NaN  None   \n",
       "3   929295193     None        11.0  None   \n",
       "4  1908339310     None         NaN  None   \n",
       "\n",
       "                                                 url  \\\n",
       "0                                  http://adressa.no   \n",
       "1                                  http://adressa.no   \n",
       "2  http://adressa.no/nyheter/trondheim/2016/12/31...   \n",
       "3                                  http://adressa.no   \n",
       "4  http://adressa.no/pluss/kultur/2016/12/31/bare...   \n",
       "\n",
       "                              userId publishtime        time documentId  \n",
       "0   cx:i9i5zdr4ns9bm4ky:2by1rj0hmjgy        None  1483225227       None  \n",
       "1  cx:iimz2wwcwxu7d721:2r8odp9zhg5yp        None  1483225320       None  \n",
       "2  cx:iimz2wwcwxu7d721:2r8odp9zhg5yp        None  1483225328       None  \n",
       "3  cx:idlec1eyfbpru62o:2yhui5zv6k12b        None  1483225334       None  \n",
       "4  cx:iimz2wwcwxu7d721:2r8odp9zhg5yp        None  1483225387       None  "
      ],
      "text/html": "<div>\n<style scoped>\n    .dataframe tbody tr th:only-of-type {\n        vertical-align: middle;\n    }\n\n    .dataframe tbody tr th {\n        vertical-align: top;\n    }\n\n    .dataframe thead th {\n        text-align: right;\n    }\n</style>\n<table border=\"1\" class=\"dataframe\">\n  <thead>\n    <tr style=\"text-align: right;\">\n      <th></th>\n      <th>eventId</th>\n      <th>category</th>\n      <th>activeTime</th>\n      <th>title</th>\n      <th>url</th>\n      <th>userId</th>\n      <th>publishtime</th>\n      <th>time</th>\n      <th>documentId</th>\n    </tr>\n  </thead>\n  <tbody>\n    <tr>\n      <th>0</th>\n      <td>2029361762</td>\n      <td>None</td>\n      <td>NaN</td>\n      <td>None</td>\n      <td>http://adressa.no</td>\n      <td>cx:i9i5zdr4ns9bm4ky:2by1rj0hmjgy</td>\n      <td>None</td>\n      <td>1483225227</td>\n      <td>None</td>\n    </tr>\n    <tr>\n      <th>1</th>\n      <td>351617637</td>\n      <td>None</td>\n      <td>41.0</td>\n      <td>None</td>\n      <td>http://adressa.no</td>\n      <td>cx:iimz2wwcwxu7d721:2r8odp9zhg5yp</td>\n      <td>None</td>\n      <td>1483225320</td>\n      <td>None</td>\n    </tr>\n    <tr>\n      <th>2</th>\n      <td>483221791</td>\n      <td>None</td>\n      <td>NaN</td>\n      <td>None</td>\n      <td>http://adressa.no/nyheter/trondheim/2016/12/31...</td>\n      <td>cx:iimz2wwcwxu7d721:2r8odp9zhg5yp</td>\n      <td>None</td>\n      <td>1483225328</td>\n      <td>None</td>\n    </tr>\n    <tr>\n      <th>3</th>\n      <td>929295193</td>\n      <td>None</td>\n      <td>11.0</td>\n      <td>None</td>\n      <td>http://adressa.no</td>\n      <td>cx:idlec1eyfbpru62o:2yhui5zv6k12b</td>\n      <td>None</td>\n      <td>1483225334</td>\n      <td>None</td>\n    </tr>\n    <tr>\n      <th>4</th>\n      <td>1908339310</td>\n      <td>None</td>\n      <td>NaN</td>\n      <td>None</td>\n      <td>http://adressa.no/pluss/kultur/2016/12/31/bare...</td>\n      <td>cx:iimz2wwcwxu7d721:2r8odp9zhg5yp</td>\n      <td>None</td>\n      <td>1483225387</td>\n      <td>None</td>\n    </tr>\n  </tbody>\n</table>\n</div>"
     },
     "metadata": {},
     "execution_count": 2
    }
   ],
   "source": [
    "import sys\n",
    "import os\n",
    "import pandas as pd\n",
    "import json\n",
    "\n",
    "def load_data(path):\n",
    "    \"\"\"\n",
    "        Load events from files and convert to dataframe.\n",
    "    \"\"\"\n",
    "    map_lst = []\n",
    "    for f in os.listdir(path):\n",
    "        file_name = os.path.join(path, f)\n",
    "        if os.path.isfile(file_name):\n",
    "            for line in open(file_name):\n",
    "                obj = json.loads(line.strip())\n",
    "                if not obj is None:\n",
    "                    map_lst.append(obj)\n",
    "    return pd.DataFrame(map_lst)\n",
    "\n",
    "### This loads all the data-files in active1000 folder\n",
    "df = load_data('../data/active1000')\n",
    "\n",
    "\n",
    "# # TODO: now only loads one day\n",
    "# map_lst = []\n",
    "# for line in open('../data/active1000/20170101'):\n",
    "#     obj = json.loads(line.strip())\n",
    "#     if not obj is None:\n",
    "#         map_lst.append(obj)\n",
    "# df = pd.DataFrame(map_lst)\n",
    "\n",
    "df.shape\n",
    "df.head()"
   ]
  },
  {
   "source": [
    "### random stats"
   ],
   "cell_type": "markdown",
   "metadata": {}
  },
  {
   "cell_type": "code",
   "execution_count": 14,
   "metadata": {},
   "outputs": [
    {
     "output_type": "stream",
     "name": "stdout",
     "text": [
      "total num: 2207608\n",
      "DocID not null: 788931\n",
      "isHomepage: 1050471\n",
      "isArticle: 1157137\n",
      "isArticle and docId isnull: 368206\n",
      "empty url: 0\n",
      "empty title: 1418677\n",
      "isArticle & empty title: 368206\n",
      "isArticle_empty_title_empty_docID: 368206\n",
      "       eventId category  activeTime title  \\\n",
      "2    483221791     None         NaN  None   \n",
      "4   1908339310     None         NaN  None   \n",
      "16  2066591949     None        51.0  None   \n",
      "26  1597897433     None         NaN  None   \n",
      "30  1864559266     None        20.0  None   \n",
      "44  1106404756     None         NaN  None   \n",
      "52   768347973     None         7.0  None   \n",
      "54  1724858721     None         NaN  None   \n",
      "55   832627945     None         NaN  None   \n",
      "56  1365782907     None         NaN  None   \n",
      "\n",
      "                                                  url  \\\n",
      "2   http://adressa.no/nyheter/trondheim/2016/12/31...   \n",
      "4   http://adressa.no/pluss/kultur/2016/12/31/bare...   \n",
      "16  http://adressa.no/nyheter/trondheim/2016/12/31...   \n",
      "26  http://adressa.no/100sport/vintersport/langren...   \n",
      "30  http://adressa.no/100sport/vintersport/langren...   \n",
      "44  http://adressa.no/100sport/fotball/united-var-...   \n",
      "52                     http://www.adressa.no/nyheter/   \n",
      "54             http://adressa.no/nyheter/sortrondelag   \n",
      "55                     http://www.adressa.no/nyheter/   \n",
      "56  http://adressa.no/100sport/vintersport/langren...   \n",
      "\n",
      "                                        userId publishtime        time  \\\n",
      "2            cx:iimz2wwcwxu7d721:2r8odp9zhg5yp        None  1483225328   \n",
      "4            cx:iimz2wwcwxu7d721:2r8odp9zhg5yp        None  1483225387   \n",
      "16            cx:ihnzu06beuazgkud:dj2r4rm22hul        None  1483225501   \n",
      "26            cx:ilfpxvtxtbw8zoiz:jy0kpshctu1c        None  1483225595   \n",
      "30  cx:1e1f63c523ffl2soio74f5sp5n:bdwc2uq43w9w        None  1483225607   \n",
      "44            cx:ilfpxvtxtbw8zoiz:jy0kpshctu1c        None  1483225675   \n",
      "52  cx:1m0dupfv97gglk5u9yfw65lhl:2sjgjqpk418jv        None  1483225726   \n",
      "54  cx:1m0dupfv97gglk5u9yfw65lhl:2sjgjqpk418jv        None  1483225735   \n",
      "55  cx:1m0dupfv97gglk5u9yfw65lhl:2sjgjqpk418jv        None  1483225739   \n",
      "56           cx:igva5nffcnlcn3hl:3kpgjfrddyykf        None  1483225741   \n",
      "\n",
      "   documentId  \n",
      "2        None  \n",
      "4        None  \n",
      "16       None  \n",
      "26       None  \n",
      "30       None  \n",
      "44       None  \n",
      "52       None  \n",
      "54       None  \n",
      "55       None  \n",
      "56       None  \n"
     ]
    }
   ],
   "source": [
    "\n",
    "# NB: isArticle means non-homepage, i.e. it contains visits to subcategory and category pages\n",
    "\n",
    "\n",
    "print(f'total num: {df.shape[0]}')\n",
    "docID_not_null = df[df['documentId'].notnull()].shape[0]\n",
    "print(f'DocID not null: {docID_not_null}')\n",
    "isHomepage = df[df['url'] == 'http://adressa.no'].shape[0] \n",
    "print(f'isHomepage: {isHomepage}')\n",
    "# homepage_with_docID = df[df['documentId'].notnull() & (df['url'] == 'http://adressa.no')].shape[0]\n",
    "# print(f'homepage with docID: {homepage_with_docID}')\n",
    "isArticle = df[df['url'] != 'http://adressa.no'].shape[0]\n",
    "print(f'isArticle: {isArticle}')\n",
    "isArticle_and_DocID_isNull = df[df['documentId'].isnull() & (df['url'] != 'http://adressa.no')].shape[0]\n",
    "print(f'isArticle and docId isnull: {isArticle_and_DocID_isNull}')\n",
    "empty_url = df[df['url'] == ''].shape[0]\n",
    "print(f'empty url: {empty_url}')\n",
    "empty_title = df[df['title'].isnull()].shape[0]\n",
    "print(f'empty title: {empty_title}')\n",
    "isArticle_empty_title = df[df['title'].isnull() & (df['url'] != 'http://adressa.no')].shape[0]\n",
    "print(f'isArticle & empty title: {isArticle_empty_title}')\n",
    "isArticle_empty_title_empty_docID = df[df['title'].isnull() & df['documentId'].isnull() & (df['url'] != 'http://adressa.no')]\n",
    "print(f'isArticle_empty_title_empty_docID: {isArticle_empty_title_empty_docID.shape[0]}')\n",
    "\n",
    "print(isArticle_empty_title_empty_docID[:10])\n",
    "# isArticle_category_isNull = df[df['category'].isnull() & (df['url'] != 'http://adressa.no')].shape[0]\n",
    "# print(f'isArticle and category isnull: {isArticle_category_isNull}')\n",
    "# isArticle_noTitle = df[df['title'].isnull() & (df['url'] != 'http://adressa.no')].shape[0]\n",
    "# print(f'isArticle and noTitle: {isArticle_noTitle}')"
   ]
  },
  {
   "source": [
    "### Checking out categories"
   ],
   "cell_type": "markdown",
   "metadata": {}
  },
  {
   "cell_type": "code",
   "execution_count": 27,
   "metadata": {},
   "outputs": [
    {
     "output_type": "execute_result",
     "data": {
      "text/plain": [
       "        eventId           category  activeTime  \\\n",
       "32   1445037239  nyheter|innenriks         NaN   \n",
       "42     24027473     100sport|sjakk        90.0   \n",
       "50    330189993  nyheter|trondheim         NaN   \n",
       "84    670227815  nyheter|innenriks         NaN   \n",
       "110  1329919923  nyheter|innenriks         NaN   \n",
       "\n",
       "                                                 title  \\\n",
       "32             Én av tre nordmenn vil trene mer i 2017   \n",
       "42   På dette bildet skiller Magnus Carlsen seg ut:...   \n",
       "50                               - Det blir fyrverkeri   \n",
       "84             Én av tre nordmenn vil trene mer i 2017   \n",
       "110            Én av tre nordmenn vil trene mer i 2017   \n",
       "\n",
       "                                                   url  \\\n",
       "32   http://adressa.no/nyheter/innenriks/2016/12/31...   \n",
       "42   http://adressa.no/100sport/sjakk/pa-dette-bild...   \n",
       "50   http://adressa.no/nyheter/trondheim/2016/12/31...   \n",
       "84   http://adressa.no/nyheter/innenriks/2016/12/31...   \n",
       "110  http://adressa.no/nyheter/innenriks/2016/12/31...   \n",
       "\n",
       "                                         userId               publishtime  \\\n",
       "32   cx:1a14ikdig4lse1yr7x4flb13dd:fo6lrl3k2wob  2016-12-31T22:47:54.000Z   \n",
       "42   cx:1e1f63c523ffl2soio74f5sp5n:bdwc2uq43w9w  2016-12-31T16:12:10.000Z   \n",
       "50   cx:1m0dupfv97gglk5u9yfw65lhl:2sjgjqpk418jv  2016-12-31T15:48:48.000Z   \n",
       "84            cx:if18acolhbyfdhug:1rng4vxjk91f2  2016-12-31T22:47:54.000Z   \n",
       "110  cx:3qgspqpx3bs6r15a2s9wjs8vnx:ld7dxj2thh73  2016-12-31T22:47:54.000Z   \n",
       "\n",
       "           time                                documentId  \n",
       "32   1483225613  080b1bbe40a36dda8cf11482647b8b534fec2226  \n",
       "42   1483225658  05e4209b296dc7dfc9d4e0c401d79256bcea4cb5  \n",
       "50   1483225723  2607fc7d7b4c0ede839a5ff6d499fa428237443e  \n",
       "84   1483225902  080b1bbe40a36dda8cf11482647b8b534fec2226  \n",
       "110  1483226014  080b1bbe40a36dda8cf11482647b8b534fec2226  "
      ],
      "text/html": "<div>\n<style scoped>\n    .dataframe tbody tr th:only-of-type {\n        vertical-align: middle;\n    }\n\n    .dataframe tbody tr th {\n        vertical-align: top;\n    }\n\n    .dataframe thead th {\n        text-align: right;\n    }\n</style>\n<table border=\"1\" class=\"dataframe\">\n  <thead>\n    <tr style=\"text-align: right;\">\n      <th></th>\n      <th>eventId</th>\n      <th>category</th>\n      <th>activeTime</th>\n      <th>title</th>\n      <th>url</th>\n      <th>userId</th>\n      <th>publishtime</th>\n      <th>time</th>\n      <th>documentId</th>\n    </tr>\n  </thead>\n  <tbody>\n    <tr>\n      <th>32</th>\n      <td>1445037239</td>\n      <td>nyheter|innenriks</td>\n      <td>NaN</td>\n      <td>Én av tre nordmenn vil trene mer i 2017</td>\n      <td>http://adressa.no/nyheter/innenriks/2016/12/31...</td>\n      <td>cx:1a14ikdig4lse1yr7x4flb13dd:fo6lrl3k2wob</td>\n      <td>2016-12-31T22:47:54.000Z</td>\n      <td>1483225613</td>\n      <td>080b1bbe40a36dda8cf11482647b8b534fec2226</td>\n    </tr>\n    <tr>\n      <th>42</th>\n      <td>24027473</td>\n      <td>100sport|sjakk</td>\n      <td>90.0</td>\n      <td>På dette bildet skiller Magnus Carlsen seg ut:...</td>\n      <td>http://adressa.no/100sport/sjakk/pa-dette-bild...</td>\n      <td>cx:1e1f63c523ffl2soio74f5sp5n:bdwc2uq43w9w</td>\n      <td>2016-12-31T16:12:10.000Z</td>\n      <td>1483225658</td>\n      <td>05e4209b296dc7dfc9d4e0c401d79256bcea4cb5</td>\n    </tr>\n    <tr>\n      <th>50</th>\n      <td>330189993</td>\n      <td>nyheter|trondheim</td>\n      <td>NaN</td>\n      <td>- Det blir fyrverkeri</td>\n      <td>http://adressa.no/nyheter/trondheim/2016/12/31...</td>\n      <td>cx:1m0dupfv97gglk5u9yfw65lhl:2sjgjqpk418jv</td>\n      <td>2016-12-31T15:48:48.000Z</td>\n      <td>1483225723</td>\n      <td>2607fc7d7b4c0ede839a5ff6d499fa428237443e</td>\n    </tr>\n    <tr>\n      <th>84</th>\n      <td>670227815</td>\n      <td>nyheter|innenriks</td>\n      <td>NaN</td>\n      <td>Én av tre nordmenn vil trene mer i 2017</td>\n      <td>http://adressa.no/nyheter/innenriks/2016/12/31...</td>\n      <td>cx:if18acolhbyfdhug:1rng4vxjk91f2</td>\n      <td>2016-12-31T22:47:54.000Z</td>\n      <td>1483225902</td>\n      <td>080b1bbe40a36dda8cf11482647b8b534fec2226</td>\n    </tr>\n    <tr>\n      <th>110</th>\n      <td>1329919923</td>\n      <td>nyheter|innenriks</td>\n      <td>NaN</td>\n      <td>Én av tre nordmenn vil trene mer i 2017</td>\n      <td>http://adressa.no/nyheter/innenriks/2016/12/31...</td>\n      <td>cx:3qgspqpx3bs6r15a2s9wjs8vnx:ld7dxj2thh73</td>\n      <td>2016-12-31T22:47:54.000Z</td>\n      <td>1483226014</td>\n      <td>080b1bbe40a36dda8cf11482647b8b534fec2226</td>\n    </tr>\n  </tbody>\n</table>\n</div>"
     },
     "metadata": {},
     "execution_count": 27
    }
   ],
   "source": [
    "df_categories = df[df['category'].notnull()]\n",
    "df_categories.head()"
   ]
  }
 ]
}