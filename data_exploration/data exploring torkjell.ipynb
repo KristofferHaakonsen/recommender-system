{
 "cells": [
  {
   "cell_type": "code",
   "execution_count": 2,
   "id": "material-killing",
   "metadata": {},
   "outputs": [],
   "source": [
    "import numpy as np\n",
    "import sklearn as sk\n",
    "import pandas as pd\n",
    "import os\n",
    "import json"
   ]
  },
  {
   "cell_type": "code",
   "execution_count": 3,
   "metadata": {},
   "outputs": [],
   "source": [
    "### Import project-example code (https://stackoverflow.com/questions/49264194/import-py-file-in-another-directory-in-jupyter-notebook)\n",
    "module_path = os.path.abspath(os.path.join('..'))\n",
    "if module_path not in sys.path:\n",
    "    sys.path.append(module_path+\"\\\\example_code\")\n",
    "from project_example import *\n",
    "## This loads all the data-files in active1000 folder\n",
    "df = load_data('../data/active1000')"
   ]
  },
  {
   "cell_type": "code",
   "execution_count": 4,
   "id": "herbal-hepatitis",
   "metadata": {},
   "outputs": [],
   "source": [
    "df = load_data(\"../data/active1000\")"
   ]
  },
  {
   "cell_type": "code",
   "execution_count": null,
   "metadata": {},
   "outputs": [],
   "source": []
  },
  {
   "cell_type": "code",
   "execution_count": 5,
   "id": "naval-reproduction",
   "metadata": {},
   "outputs": [
    {
     "output_type": "execute_result",
     "data": {
      "text/plain": [
       "      eventId category  activeTime title  \\\n",
       "0  2029361762     None         NaN  None   \n",
       "1   351617637     None        41.0  None   \n",
       "2   483221791     None         NaN  None   \n",
       "3   929295193     None        11.0  None   \n",
       "4  1908339310     None         NaN  None   \n",
       "\n",
       "                                                 url  \\\n",
       "0                                  http://adressa.no   \n",
       "1                                  http://adressa.no   \n",
       "2  http://adressa.no/nyheter/trondheim/2016/12/31...   \n",
       "3                                  http://adressa.no   \n",
       "4  http://adressa.no/pluss/kultur/2016/12/31/bare...   \n",
       "\n",
       "                              userId publishtime        time documentId  \n",
       "0   cx:i9i5zdr4ns9bm4ky:2by1rj0hmjgy        None  1483225227       None  \n",
       "1  cx:iimz2wwcwxu7d721:2r8odp9zhg5yp        None  1483225320       None  \n",
       "2  cx:iimz2wwcwxu7d721:2r8odp9zhg5yp        None  1483225328       None  \n",
       "3  cx:idlec1eyfbpru62o:2yhui5zv6k12b        None  1483225334       None  \n",
       "4  cx:iimz2wwcwxu7d721:2r8odp9zhg5yp        None  1483225387       None  "
      ],
      "text/html": "<div>\n<style scoped>\n    .dataframe tbody tr th:only-of-type {\n        vertical-align: middle;\n    }\n\n    .dataframe tbody tr th {\n        vertical-align: top;\n    }\n\n    .dataframe thead th {\n        text-align: right;\n    }\n</style>\n<table border=\"1\" class=\"dataframe\">\n  <thead>\n    <tr style=\"text-align: right;\">\n      <th></th>\n      <th>eventId</th>\n      <th>category</th>\n      <th>activeTime</th>\n      <th>title</th>\n      <th>url</th>\n      <th>userId</th>\n      <th>publishtime</th>\n      <th>time</th>\n      <th>documentId</th>\n    </tr>\n  </thead>\n  <tbody>\n    <tr>\n      <th>0</th>\n      <td>2029361762</td>\n      <td>None</td>\n      <td>NaN</td>\n      <td>None</td>\n      <td>http://adressa.no</td>\n      <td>cx:i9i5zdr4ns9bm4ky:2by1rj0hmjgy</td>\n      <td>None</td>\n      <td>1483225227</td>\n      <td>None</td>\n    </tr>\n    <tr>\n      <th>1</th>\n      <td>351617637</td>\n      <td>None</td>\n      <td>41.0</td>\n      <td>None</td>\n      <td>http://adressa.no</td>\n      <td>cx:iimz2wwcwxu7d721:2r8odp9zhg5yp</td>\n      <td>None</td>\n      <td>1483225320</td>\n      <td>None</td>\n    </tr>\n    <tr>\n      <th>2</th>\n      <td>483221791</td>\n      <td>None</td>\n      <td>NaN</td>\n      <td>None</td>\n      <td>http://adressa.no/nyheter/trondheim/2016/12/31...</td>\n      <td>cx:iimz2wwcwxu7d721:2r8odp9zhg5yp</td>\n      <td>None</td>\n      <td>1483225328</td>\n      <td>None</td>\n    </tr>\n    <tr>\n      <th>3</th>\n      <td>929295193</td>\n      <td>None</td>\n      <td>11.0</td>\n      <td>None</td>\n      <td>http://adressa.no</td>\n      <td>cx:idlec1eyfbpru62o:2yhui5zv6k12b</td>\n      <td>None</td>\n      <td>1483225334</td>\n      <td>None</td>\n    </tr>\n    <tr>\n      <th>4</th>\n      <td>1908339310</td>\n      <td>None</td>\n      <td>NaN</td>\n      <td>None</td>\n      <td>http://adressa.no/pluss/kultur/2016/12/31/bare...</td>\n      <td>cx:iimz2wwcwxu7d721:2r8odp9zhg5yp</td>\n      <td>None</td>\n      <td>1483225387</td>\n      <td>None</td>\n    </tr>\n  </tbody>\n</table>\n</div>"
     },
     "metadata": {},
     "execution_count": 5
    }
   ],
   "source": [
    "df.head()"
   ]
  },
  {
   "cell_type": "code",
   "execution_count": 6,
   "id": "indonesian-reproduction",
   "metadata": {},
   "outputs": [
    {
     "output_type": "execute_result",
     "data": {
      "text/plain": [
       "            eventId    activeTime          time\n",
       "count  2.207608e+06  1.351878e+06  2.207608e+06\n",
       "mean   1.073690e+09  4.435958e+01  1.487126e+09\n",
       "std    6.197432e+08  6.342047e+01  2.245535e+06\n",
       "min    7.100000e+01  1.000000e+00  1.483225e+09\n",
       "25%    5.369342e+08  8.000000e+00  1.485195e+09\n",
       "50%    1.074255e+09  2.200000e+01  1.487139e+09\n",
       "75%    1.609982e+09  5.300000e+01  1.489062e+09\n",
       "max    2.147483e+09  8.990000e+02  1.490998e+09"
      ],
      "text/html": "<div>\n<style scoped>\n    .dataframe tbody tr th:only-of-type {\n        vertical-align: middle;\n    }\n\n    .dataframe tbody tr th {\n        vertical-align: top;\n    }\n\n    .dataframe thead th {\n        text-align: right;\n    }\n</style>\n<table border=\"1\" class=\"dataframe\">\n  <thead>\n    <tr style=\"text-align: right;\">\n      <th></th>\n      <th>eventId</th>\n      <th>activeTime</th>\n      <th>time</th>\n    </tr>\n  </thead>\n  <tbody>\n    <tr>\n      <th>count</th>\n      <td>2.207608e+06</td>\n      <td>1.351878e+06</td>\n      <td>2.207608e+06</td>\n    </tr>\n    <tr>\n      <th>mean</th>\n      <td>1.073690e+09</td>\n      <td>4.435958e+01</td>\n      <td>1.487126e+09</td>\n    </tr>\n    <tr>\n      <th>std</th>\n      <td>6.197432e+08</td>\n      <td>6.342047e+01</td>\n      <td>2.245535e+06</td>\n    </tr>\n    <tr>\n      <th>min</th>\n      <td>7.100000e+01</td>\n      <td>1.000000e+00</td>\n      <td>1.483225e+09</td>\n    </tr>\n    <tr>\n      <th>25%</th>\n      <td>5.369342e+08</td>\n      <td>8.000000e+00</td>\n      <td>1.485195e+09</td>\n    </tr>\n    <tr>\n      <th>50%</th>\n      <td>1.074255e+09</td>\n      <td>2.200000e+01</td>\n      <td>1.487139e+09</td>\n    </tr>\n    <tr>\n      <th>75%</th>\n      <td>1.609982e+09</td>\n      <td>5.300000e+01</td>\n      <td>1.489062e+09</td>\n    </tr>\n    <tr>\n      <th>max</th>\n      <td>2.147483e+09</td>\n      <td>8.990000e+02</td>\n      <td>1.490998e+09</td>\n    </tr>\n  </tbody>\n</table>\n</div>"
     },
     "metadata": {},
     "execution_count": 6
    }
   ],
   "source": [
    "df.describe()"
   ]
  },
  {
   "cell_type": "code",
   "execution_count": 7,
   "id": "existing-progress",
   "metadata": {},
   "outputs": [
    {
     "output_type": "execute_result",
     "data": {
      "text/plain": [
       "eventId          int64\n",
       "category        object\n",
       "activeTime     float64\n",
       "title           object\n",
       "url             object\n",
       "userId          object\n",
       "publishtime     object\n",
       "time             int64\n",
       "documentId      object\n",
       "dtype: object"
      ]
     },
     "metadata": {},
     "execution_count": 7
    }
   ],
   "source": [
    "df.dtypes"
   ]
  },
  {
   "cell_type": "code",
   "execution_count": 8,
   "id": "ranging-strand",
   "metadata": {},
   "outputs": [
    {
     "output_type": "execute_result",
     "data": {
      "text/plain": [
       "array(['100sport|andreidretter', '100sport|ballsport', '100sport|fotball',\n",
       "       '100sport|idrettspolitikk', '100sport|kampsport',\n",
       "       '100sport|meninger', '100sport|mesterskap', '100sport|motorsport',\n",
       "       '100sport|sjakk', '100sport|sprek', '100sport|sykkel',\n",
       "       '100sport|vintersport', 'bil|veteran', 'bolig|boligguiden',\n",
       "       'forbruker|digital', 'forbruker|fritid', 'forbruker|hjem',\n",
       "       'forbruker|livsstil', 'forbruker|personlig okonomi',\n",
       "       'forbruker|sexogsamliv', 'kultur|anmeldt', 'kultur|aretstronder',\n",
       "       'kultur|bok', 'kultur|festivaler', 'kultur|film', 'kultur|musikk',\n",
       "       'kultur|rockamiddag', 'kultur|scene', 'kultur|spill', 'kultur|tv',\n",
       "       'kultur|utawards', 'kultur|uteliv', 'kultur|utguiden',\n",
       "       'kultur|vin', 'meninger|annenside', 'meninger|kommentarer',\n",
       "       'meninger|kronikker', 'meninger|leder', 'meninger|ordetfritt',\n",
       "       'meninger|snakkut', 'migration catalog|kultur',\n",
       "       'migration catalog|midt-norge', 'migration catalog|trondheim',\n",
       "       'migration catalog|utenriks', 'nyheter|adressa noogda',\n",
       "       'nyheter|dokument', 'nyheter|helse', 'nyheter|innenriks',\n",
       "       'nyheter|innsyn', 'nyheter|kuriosa', 'nyheter|moreromsdal',\n",
       "       'nyheter|nordtrondelag', 'nyheter|okonomi', 'nyheter|oppdraget',\n",
       "       'nyheter|politikk', 'nyheter|psykiatri', 'nyheter|sortrondelag',\n",
       "       'nyheter|terrorangrepet', 'nyheter|trondheim', 'nyheter|utenriks',\n",
       "       'omadresseavisen|arrangementer', 'pluss|kultur', 'pluss|magasin',\n",
       "       'pluss|meninger', 'pluss|nyheter', 'pluss|okonomi', 'pluss|serier',\n",
       "       'pluss|sport', 'sport|friidrett', 'sport|langrenn', 'sport|sprek',\n",
       "       'tema|arets tronder', 'tema|kvinner', 'tema|makteliten',\n",
       "       'tema|villeveier', 'tjenester|bildeserier',\n",
       "       'tjenester|konkurranser', 'vaeret|klima'], dtype=object)"
      ]
     },
     "metadata": {},
     "execution_count": 8
    }
   ],
   "source": [
    "np.unique(df[pd.notnull(df.category)].category)"
   ]
  },
  {
   "cell_type": "code",
   "execution_count": 10,
   "id": "human-engineering",
   "metadata": {},
   "outputs": [
    {
     "output_type": "execute_result",
     "data": {
      "text/plain": [
       "609850"
      ]
     },
     "metadata": {},
     "execution_count": 10
    }
   ],
   "source": [
    "df[pd.notnull(df.category)].category.count()"
   ]
  },
  {
   "cell_type": "code",
   "execution_count": null,
   "id": "molecular-holocaust",
   "metadata": {},
   "outputs": [],
   "source": []
  },
  {
   "cell_type": "code",
   "execution_count": null,
   "id": "fresh-novelty",
   "metadata": {},
   "outputs": [],
   "source": []
  },
  {
   "cell_type": "code",
   "execution_count": 12,
   "id": "disturbed-hardware",
   "metadata": {},
   "outputs": [
    {
     "output_type": "stream",
     "name": "stdout",
     "text": [
      "Recommendation based on MF...\n",
      "Iteration: 1\n",
      "Train mse: 0.6009370665250003\n",
      "Test mse: 0.6912757333170384\n",
      "Iteration: 2\n",
      "Train mse: 0.5350446511354616\n",
      "Test mse: 0.6446148192027251\n",
      "Iteration: 5\n",
      "Train mse: 0.513323503205221\n",
      "Test mse: 0.6301613333670117\n",
      "Iteration: 10\n",
      "Train mse: 0.5100358110038703\n",
      "Test mse: 0.6267783361691239\n",
      "Iteration: 25\n",
      "Current iteration: 10\n",
      "Train mse: 0.509245310298726\n",
      "Test mse: 0.6253498994868906\n",
      "Iteration: 50\n",
      "Current iteration: 10\n",
      "Current iteration: 20\n",
      "Train mse: 0.5091233888893163\n",
      "Test mse: 0.6252857507230952\n",
      "Iteration: 100\n",
      "Current iteration: 10\n",
      "Current iteration: 20\n",
      "Current iteration: 30\n",
      "Current iteration: 40\n",
      "Current iteration: 50\n",
      "Train mse: 0.5090868115524179\n",
      "Test mse: 0.6253498735721402\n",
      "Recommendation based on content-based method...\n"
     ]
    }
   ],
   "source": [
    "\n",
    "###### Get Statistics from dataset ############\n",
    "##print(\"Basic statistics of the dataset...\")\n",
    "#statistics(df)\n",
    "\n",
    "###### Recommendations based on Collaborative Filtering (Matrix Factorization) #######\n",
    "print(\"Recommendation based on MF...\")\n",
    "collaborative_filtering(df)\n",
    "\n",
    "###### Recommendations based on Content-based Method (Cosine Similarity) ############\n",
    "print(\"Recommendation based on content-based method...\")\n",
    "#content_recommendation(df, k=20)"
   ]
  },
  {
   "cell_type": "code",
   "execution_count": null,
   "id": "configured-worth",
   "metadata": {},
   "outputs": [],
   "source": []
  }
 ],
 "metadata": {
  "kernelspec": {
   "display_name": "Python 3",
   "language": "python",
   "name": "python3"
  },
  "language_info": {
   "codemirror_mode": {
    "name": "ipython",
    "version": 3
   },
   "file_extension": ".py",
   "mimetype": "text/x-python",
   "name": "python",
   "nbconvert_exporter": "python",
   "pygments_lexer": "ipython3",
   "version": "3.8.5-final"
  }
 },
 "nbformat": 4,
 "nbformat_minor": 5
}