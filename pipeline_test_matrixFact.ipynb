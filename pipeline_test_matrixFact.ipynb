{
 "cells": [
  {
   "cell_type": "markdown",
   "metadata": {},
   "source": [
    "## Global params"
   ]
  },
  {
   "cell_type": "code",
   "execution_count": null,
   "metadata": {},
   "outputs": [],
   "source": [
    "DATA_PATH = 'data/active1000'"
   ]
  },
  {
   "cell_type": "markdown",
   "metadata": {},
   "source": [
    "## Pre-process"
   ]
  },
  {
   "cell_type": "code",
   "execution_count": null,
   "metadata": {},
   "outputs": [],
   "source": [
    "from preprocessing import clean_data\n",
    "from ratingmatrix import rating_matrix, rating_matrix_train_test_split\n",
    "\n",
    "# ANIME-dataset specific. This dataset is meant for matrix factorization\n",
    "# https://jovian.ai/aakanksha-ns/anime-ratings-matrix-factorization\n",
    "# They achieved:\n",
    "    # train MSE = 6.025304\n",
    "    # validation MSE = 11.735503\n",
    "    # total of 69600 users and 9927 anime. There are 6337241 ratings provided (out of 690,919,200 possible ratings).\n",
    "\n",
    "df = pd.read_csv(\"data/anime/rating1.csv\")\n",
    "df_2 = pd.read_csv(\"data/anime/rating2.csv\")\n",
    "df = pd.concat([df, df_2])\n",
    "df = df.loc[df.rating != -1].reset_index()[['user_id','anime_id','rating']]\n",
    "print(anime_ratings.shape)\n",
    "anime_ratings.head()\n",
    "\n",
    "\n",
    "# df = clean_data(DATA_PATH, num_days=2)\n",
    "rm = rating_matrix(df)\n",
    "train, test = rating_matrix_train_test_split(rm, fraction=0.2)"
   ]
  }
 ],
 "metadata": {
  "kernelspec": {
   "display_name": "Python 3",
   "language": "python",
   "name": "python3"
  },
  "language_info": {
   "codemirror_mode": {
    "name": "ipython",
    "version": 3
   },
   "file_extension": ".py",
   "mimetype": "text/x-python",
   "name": "python",
   "nbconvert_exporter": "python",
   "pygments_lexer": "ipython3",
   "version": "3.8.5"
  }
 },
 "nbformat": 4,
 "nbformat_minor": 2
}