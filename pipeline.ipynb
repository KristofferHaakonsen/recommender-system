{
 "cells": [
  {
   "cell_type": "markdown",
   "metadata": {},
   "source": [
    "## Global params"
   ]
  },
  {
   "cell_type": "code",
   "execution_count": null,
   "metadata": {},
   "outputs": [],
   "source": [
    "%load_ext autoreload\n",
    "import pandas as pd"
   ]
  },
  {
   "cell_type": "markdown",
   "metadata": {},
   "source": [
    "## Pre-process"
   ]
  },
  {
   "cell_type": "code",
   "execution_count": null,
   "metadata": {},
   "outputs": [],
   "source": [
    "%autoreload 2\n",
    "from ratingmatrix import rating_matrix\n",
    "from user_keywords import load_content_data, load_events_data, merge_on_docID, get_user_counts, get_user_profile\n",
    "\n",
    "df_content = load_content_data('data/content_refine')\n",
    "df_content = df_content.rename(columns={\"id\": \"documentId\"})\n",
    "# TODO: using num_days for testing\n",
    "df_events = load_events_data('data/active1000', num_days=30)\n",
    "df_events = df_events.drop(['title', 'publishtime'], axis=1)\n",
    "df_merged = merge_on_docID(df_events, df_content)\n",
    "df_user_frequencies = get_user_counts(df_merged)\n",
    "df_user_profile = get_user_profile(df_user_frequencies)\n",
    "df_user_profile.to_pickle('data/matrix-df/user_profiles.pkl')\n",
    "df_user_item = rating_matrix(df_events)\n",
    "df_user_item.to_pickle('data/matrix-df/user_item.pkl')\n",
    "\n",
    "\n"
   ]
  },
  {
   "source": [
    "### Load preprocessed matrices"
   ],
   "cell_type": "markdown",
   "metadata": {
    "tags": []
   }
  },
  {
   "cell_type": "code",
   "execution_count": null,
   "metadata": {},
   "outputs": [],
   "source": [
    "%autoreload 2\n",
    "from ratingmatrix import rating_matrix_train_test_split\n",
    "\n",
    "df_user_profile = pd.read_pickle('data/matrix-df/user_profiles.pkl')\n",
    "df_user_profile.head()\n",
    "\n",
    "df_user_item = pd.read_pickle('data/matrix-df/user_item.pkl')\n",
    "df_user_item.head()\n",
    "\n",
    "\n",
    "# TODO, might need to rewrite the method too\n",
    "# train, test = rating_matrix_train_test_split(rm, fraction=0.2)"
   ]
  },
  {
   "source": [
    "# ! Here and outwards is currently a bit messy"
   ],
   "cell_type": "markdown",
   "metadata": {}
  },
  {
   "cell_type": "markdown",
   "metadata": {},
   "source": [
    "## Method"
   ]
  },
  {
   "cell_type": "code",
   "execution_count": null,
   "metadata": {},
   "outputs": [],
   "source": [
    "# from example_code.ExplicitMF import ExplicitMF as mf\n",
    "# from recommender_methods import plot_learning_curve"
   ]
  },
  {
   "cell_type": "code",
   "execution_count": null,
   "metadata": {},
   "outputs": [],
   "source": [
    "# train, test = X, y \n",
    "# mf_als = mf(train, n_factors=40, user_reg=0.0, item_reg=0.0)\n",
    "# iter_array = [1, 2, 5, 10, 25, 50, 100]\n",
    "# mf_als.calculate_learning_curve(iter_array, test)\n",
    "# # plot out learning curves\n",
    "# plot_learning_curve(iter_array, mf_als)"
   ]
  },
  {
   "cell_type": "markdown",
   "metadata": {},
   "source": [
    "## Content-based recommendation"
   ]
  },
  {
   "cell_type": "code",
   "execution_count": null,
   "metadata": {},
   "outputs": [],
   "source": [
    "# from recommender_methods import content_recommendation\n",
    "# from evaluation import evaluate\n",
    "# k = 20\n",
    "# y_pred, y = content_recommendation(df, k)\n",
    "\n",
    "# evaluate(y_pred, y, k)"
   ]
  },
  {
   "source": [
    "### Evaluate"
   ],
   "cell_type": "markdown",
   "metadata": {}
  },
  {
   "cell_type": "code",
   "execution_count": null,
   "metadata": {},
   "outputs": [],
   "source": []
  }
 ],
 "metadata": {
  "kernelspec": {
   "display_name": "Python 3",
   "language": "python",
   "name": "python3"
  },
  "language_info": {
   "codemirror_mode": {
    "name": "ipython",
    "version": 3
   },
   "file_extension": ".py",
   "mimetype": "text/x-python",
   "name": "python",
   "nbconvert_exporter": "python",
   "pygments_lexer": "ipython3",
   "version": "3.8.1-final"
  }
 },
 "nbformat": 4,
 "nbformat_minor": 2
}