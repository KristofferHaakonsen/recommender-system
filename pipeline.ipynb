{
 "cells": [
  {
   "cell_type": "markdown",
   "metadata": {},
   "source": [
    "### Global params"
   ]
  },
  {
   "cell_type": "code",
   "execution_count": null,
   "metadata": {},
   "outputs": [],
   "source": [
    "%load_ext autoreload\n",
    "import pandas as pd\n",
    "k = 2   # Number of closest-users\n",
    "n = 20   # Number of articles we recommend"
   ]
  },
  {
   "cell_type": "markdown",
   "metadata": {},
   "source": [
    "### Pre-process"
   ]
  },
  {
   "cell_type": "code",
   "execution_count": null,
   "metadata": {},
   "outputs": [],
   "source": [
    "%%time\n",
    "%autoreload 2\n",
    "from ratingmatrix import rating_matrix\n",
    "from user_keywords import load_content_data, load_events_data, merge_on_docID, get_user_counts, get_user_profile\n",
    "\n",
    "df_content = load_content_data('data/content_refine')\n",
    "df_content = df_content.rename(columns={\"id\": \"documentId\"})\n",
    "# TODO: using num_days for testing\n",
    "df_events = load_events_data('data/active1000', num_days=None)\n",
    "df_events = df_events.drop(['title', 'publishtime'], axis=1)\n",
    "df_merged = merge_on_docID(df_events, df_content)\n",
    "df_user_frequencies = get_user_counts(df_merged)\n",
    "df_user_profile = get_user_profile(df_user_frequencies)\n",
    "df_user_profile.to_pickle('data/matrix-df/user_profiles.pkl')\n",
    "df_user_item = rating_matrix(df_events)\n",
    "df_user_item.to_pickle('data/matrix-df/user_item.pkl')\n"
   ]
  },
  {
   "source": [
    "### Load preprocessed matrices + train_test"
   ],
   "cell_type": "markdown",
   "metadata": {
    "tags": []
   }
  },
  {
   "cell_type": "code",
   "execution_count": null,
   "metadata": {},
   "outputs": [],
   "source": [
    "%autoreload 2\n",
    "from ratingmatrix import rating_matrix_train_test_split\n",
    "\n",
    "df_user_profile = pd.read_pickle('data/matrix-df/user_profiles.pkl')\n",
    "df_user_profile.head()\n",
    "\n",
    "df_user_item = pd.read_pickle('data/matrix-df/user_item.pkl')\n",
    "df_user_item.head()\n",
    "\n",
    "index = df_user_item.index\n",
    "columns = df_user_item.columns\n",
    "train, test = rating_matrix_train_test_split(df_user_item.to_numpy(), fraction=0.2)\n",
    "\n",
    "# Train and test are disjoint (in terms of the 1-values)\n",
    "train = pd.DataFrame(data=train, index=index, columns=columns)\n",
    "test = pd.DataFrame(data=test, index=index, columns=columns)\n",
    "\n",
    "test.head()"
   ]
  },
  {
   "cell_type": "markdown",
   "metadata": {},
   "source": [
    "## Method\n"
   ]
  },
  {
   "cell_type": "code",
   "execution_count": null,
   "outputs": [],
   "source": [
    "%%time\n",
    "from recommender_methods import collaborative_filtering_user_based\n",
    "\n",
    "# List with users and their recommended articles\n",
    "recommendations = []\n",
    "\n",
    "# The number of requests for recommendations\n",
    "num_recommendations = 0\n",
    "\n",
    "# Returns a list with recommended articles\n",
    "for user in range(len(df_user_profile.index)):\n",
    "    num_recommendations += 1\n",
    "    recommended = collaborative_filtering_user_based(df_user_profile, train, train.index[user], k, n)\n",
    "    recommendations.append(recommended)\n",
    "\n",
    "predict = test.copy(deep=True)\n",
    "predict[:] = 0.0\n",
    "for user in recommendations:\n",
    "    for article in user['articles']:\n",
    "        predict.at[user['user_id'], article] = 1.0\n",
    "\n",
    "predict.head()\n"
   ],
   "metadata": {
    "collapsed": false,
    "pycharm": {
     "name": "#%%\n"
    }
   }
  },
  {
   "cell_type": "code",
   "execution_count": null,
   "metadata": {
    "tags": []
   },
   "outputs": [],
   "source": [
    "%autoreload 2\n",
    "from evaluation import evaluate\n",
    "evaluate(recommendations, test, k, num_recommendations)"
   ]
  },
  {
   "cell_type": "code",
   "execution_count": null,
   "metadata": {},
   "outputs": [],
   "source": []
  }
 ],
 "metadata": {
  "kernelspec": {
   "name": "python381jvsc74a57bd03f557d7ed9ba8968bb8a87bae0977ff716fe616dd1096d8d54e2d9f68d975f69",
   "display_name": "Python 3.8.1 64-bit"
  },
  "language_info": {
   "codemirror_mode": {
    "name": "ipython",
    "version": 3
   },
   "file_extension": ".py",
   "mimetype": "text/x-python",
   "name": "python",
   "nbconvert_exporter": "python",
   "pygments_lexer": "ipython3",
   "version": "3.8.1"
  }
 },
 "nbformat": 4,
 "nbformat_minor": 2
}