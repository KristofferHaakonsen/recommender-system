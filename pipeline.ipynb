{
 "cells": [
  {
   "cell_type": "markdown",
   "metadata": {},
   "source": [
    "### Global params"
   ]
  },
  {
   "cell_type": "code",
   "execution_count": 86,
   "metadata": {},
   "outputs": [
    {
     "name": "stdout",
     "output_type": "stream",
     "text": [
      "The autoreload extension is already loaded. To reload it, use:\n",
      "  %reload_ext autoreload\n"
     ]
    }
   ],
   "source": [
    "%load_ext autoreload\n",
    "import pandas as pd"
   ]
  },
  {
   "cell_type": "markdown",
   "metadata": {},
   "source": [
    "### Pre-process"
   ]
  },
  {
   "cell_type": "code",
   "execution_count": 87,
   "metadata": {},
   "outputs": [
    {
     "name": "stdout",
     "output_type": "stream",
     "text": [
      "Wall time: 20.2 s\n"
     ]
    }
   ],
   "source": [
    "%%time\n",
    "%autoreload 2\n",
    "from ratingmatrix import rating_matrix\n",
    "from user_keywords import load_content_data, load_events_data, merge_on_docID, get_user_counts, get_user_profile\n",
    "\n",
    "df_content = load_content_data('data/content_refine')\n",
    "df_content = df_content.rename(columns={\"id\": \"documentId\"})\n",
    "# TODO: using num_days for testing\n",
    "df_events = load_events_data('data/active1000', num_days=1)\n",
    "df_events = df_events.drop(['title', 'publishtime'], axis=1)\n",
    "df_merged = merge_on_docID(df_events, df_content)\n",
    "df_user_frequencies = get_user_counts(df_merged)\n",
    "df_user_profile = get_user_profile(df_user_frequencies)\n",
    "df_user_profile.to_pickle('data/matrix-df/user_profiles.pkl')\n",
    "df_user_item = rating_matrix(df_events)\n",
    "df_user_item.to_pickle('data/matrix-df/user_item.pkl')\n",
    "\n",
    "\n"
   ]
  },
  {
   "source": [
    "### Load preprocessed matrices + train_test"
   ],
   "cell_type": "markdown",
   "metadata": {
    "tags": []
   }
  },
  {
   "cell_type": "code",
   "execution_count": 88,
   "metadata": {},
   "outputs": [],
   "source": [
    "%autoreload 2\n",
    "from ratingmatrix import rating_matrix_train_test_split\n",
    "\n",
    "df_user_profile = pd.read_pickle('data/matrix-df/user_profiles.pkl')\n",
    "df_user_profile.head()\n",
    "\n",
    "df_user_item = pd.read_pickle('data/matrix-df/user_item.pkl')\n",
    "df_user_item.head()\n",
    "\n",
    "index = df_user_item.index\n",
    "columns = df_user_item.columns\n",
    "train, test = rating_matrix_train_test_split(df_user_item.to_numpy(), fraction=0.2)\n",
    "\n",
    "# Train and test are disjoint (in terms of the 1-values)\n",
    "train = pd.DataFrame(data=train, index=index, columns=columns)\n",
    "test = pd.DataFrame(data=test, index=index, columns=columns)\n"
   ]
  },
  {
   "cell_type": "markdown",
   "metadata": {},
   "source": [
    "## Method\n"
   ]
  },
  {
   "cell_type": "code",
   "execution_count": 93,
   "outputs": [
    {
     "name": "stdout",
     "output_type": "stream",
     "text": [
      "K CLOSEST  userId\n",
      "cx:1eovabziwdszs3chxvp1uafjc3:1x98l0bfqg1oo    0.976385\n",
      "cx:hxxfp6tfxyb2n748:3gf1m281mpv6g              0.956058\n",
      "dtype: float64\n",
      "Index(['0867dbb33bb90970ae48592057be34246a0124ac',\n",
      "       '2a00c43cf84f7c433431027845505a0fdc77a55d',\n",
      "       '70a19fd7c9f6827feb3eb4f3df95121664491fa7',\n",
      "       '71e7c18e889b7e19352cfb63a15bd8aa32c51630',\n",
      "       '9a876c7f372136b2e51b9b98ad578c773b002c94',\n",
      "       '9d615dd08d92c8e9670fb72b5c78cbc6b52501c4',\n",
      "       'b16b516eefb647edec256ad2f9b2c7a897b9785b',\n",
      "       'b28e7c163c39941aa1cbd0b7b3a821576771f893',\n",
      "       'e1f0d81ed8ccb738db28fdfaa51ad3a6b3fc2b8e'],\n",
      "      dtype='object')\n"
     ]
    }
   ],
   "source": [
    "from recommender_methods import collaborative_filtering_user_based\n",
    "\n",
    "# Returns a list with recommended articles \n",
    "recommended = collaborative_filtering_user_based(df_user_profile, df_user_item, \"cx:il0sdznsjgg9uxgy:3bi2ksost85yi\")\n",
    "print(recommended)"
   ],
   "metadata": {
    "collapsed": false,
    "pycharm": {
     "name": "#%%\n"
    }
   }
  }
 ],
 "metadata": {
  "kernelspec": {
   "display_name": "Python 3",
   "language": "python",
   "name": "python3"
  },
  "language_info": {
   "codemirror_mode": {
    "name": "ipython",
    "version": 3
   },
   "file_extension": ".py",
   "mimetype": "text/x-python",
   "name": "python",
   "nbconvert_exporter": "python",
   "pygments_lexer": "ipython3",
   "version": "3.8.1-final"
  }
 },
 "nbformat": 4,
 "nbformat_minor": 2
}