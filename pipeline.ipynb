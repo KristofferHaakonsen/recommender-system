{
 "cells": [
  {
   "cell_type": "markdown",
   "metadata": {},
   "source": [
    "## Global params"
   ]
  },
  {
   "cell_type": "code",
   "execution_count": 1,
   "metadata": {},
   "outputs": [],
   "source": [
    "%load_ext autoreload\n",
    "import pandas as pd"
   ]
  },
  {
   "cell_type": "markdown",
   "metadata": {},
   "source": [
    "## Pre-process"
   ]
  },
  {
   "cell_type": "code",
   "execution_count": 8,
   "metadata": {},
   "outputs": [],
   "source": [
    "%autoreload 2\n",
    "from ratingmatrix import rating_matrix\n",
    "from user_keywords import load_content_data, load_events_data, merge_on_docID, get_user_counts, get_user_profile\n",
    "\n",
    "df_content = load_content_data('data/content_refine')\n",
    "df_content = df_content.rename(columns={\"id\": \"documentId\"})\n",
    "# TODO: using num_days for testing\n",
    "df_events = load_events_data('data/active1000', num_days=30)\n",
    "df_events = df_events.drop(['title', 'publishtime'], axis=1)\n",
    "df_merged = merge_on_docID(df_events, df_content)\n",
    "df_user_frequencies = get_user_counts(df_merged)\n",
    "df_user_profile = get_user_profile(df_user_frequencies)\n",
    "df_user_profile.to_pickle('data/matrix-df/user_profiles.pkl')\n",
    "df_user_item = rating_matrix(df_events)\n",
    "df_user_item.to_pickle('data/matrix-df/user_item.pkl')\n",
    "\n",
    "\n"
   ]
  },
  {
   "source": [
    "### Load preprocessed matrices"
   ],
   "cell_type": "markdown",
   "metadata": {
    "tags": []
   }
  },
  {
   "cell_type": "code",
   "execution_count": 2,
   "metadata": {},
   "outputs": [
    {
     "output_type": "execute_result",
     "data": {
      "text/plain": [
       "                                            9f3999bd1a1a8d67bcb073ad54840f15cb30f014  \\\n",
       "cx:il0sdznsjgg9uxgy:3bi2ksost85yi                                                1.0   \n",
       "cx:ijtjdxpz93t5f8m5:2iz9n4nuh22ky                                                1.0   \n",
       "cx:ep1jmztcea6w2dtv4kax775yy:1sm7epvktvk6k                                       1.0   \n",
       "cx:i2i1zmdjyfqb4ugf:2x51wx1f20jgz                                                1.0   \n",
       "cx:ik8tj30jnl47bzl6:25hcdqs8lvpwa                                                1.0   \n",
       "\n",
       "                                            ae167d304a4ef49e874389abcba68636b0011f85  \\\n",
       "cx:il0sdznsjgg9uxgy:3bi2ksost85yi                                                1.0   \n",
       "cx:ijtjdxpz93t5f8m5:2iz9n4nuh22ky                                                0.0   \n",
       "cx:ep1jmztcea6w2dtv4kax775yy:1sm7epvktvk6k                                       0.0   \n",
       "cx:i2i1zmdjyfqb4ugf:2x51wx1f20jgz                                                0.0   \n",
       "cx:ik8tj30jnl47bzl6:25hcdqs8lvpwa                                                1.0   \n",
       "\n",
       "                                            735628ed2428f2a7b2a1b78f95f3c6d777e1865b  \\\n",
       "cx:il0sdznsjgg9uxgy:3bi2ksost85yi                                                1.0   \n",
       "cx:ijtjdxpz93t5f8m5:2iz9n4nuh22ky                                                1.0   \n",
       "cx:ep1jmztcea6w2dtv4kax775yy:1sm7epvktvk6k                                       0.0   \n",
       "cx:i2i1zmdjyfqb4ugf:2x51wx1f20jgz                                                1.0   \n",
       "cx:ik8tj30jnl47bzl6:25hcdqs8lvpwa                                                0.0   \n",
       "\n",
       "                                            ca1952721582ff9e2b6d3555c26ee81a3f3f8fdb  \\\n",
       "cx:il0sdznsjgg9uxgy:3bi2ksost85yi                                                1.0   \n",
       "cx:ijtjdxpz93t5f8m5:2iz9n4nuh22ky                                                1.0   \n",
       "cx:ep1jmztcea6w2dtv4kax775yy:1sm7epvktvk6k                                       1.0   \n",
       "cx:i2i1zmdjyfqb4ugf:2x51wx1f20jgz                                                0.0   \n",
       "cx:ik8tj30jnl47bzl6:25hcdqs8lvpwa                                                1.0   \n",
       "\n",
       "                                            7b98a1ddfc682d87d9f2f867a27406252773d548  \\\n",
       "cx:il0sdznsjgg9uxgy:3bi2ksost85yi                                                1.0   \n",
       "cx:ijtjdxpz93t5f8m5:2iz9n4nuh22ky                                                0.0   \n",
       "cx:ep1jmztcea6w2dtv4kax775yy:1sm7epvktvk6k                                       1.0   \n",
       "cx:i2i1zmdjyfqb4ugf:2x51wx1f20jgz                                                1.0   \n",
       "cx:ik8tj30jnl47bzl6:25hcdqs8lvpwa                                                0.0   \n",
       "\n",
       "                                            70a19fd7c9f6827feb3eb4f3df95121664491fa7  \\\n",
       "cx:il0sdznsjgg9uxgy:3bi2ksost85yi                                                1.0   \n",
       "cx:ijtjdxpz93t5f8m5:2iz9n4nuh22ky                                                1.0   \n",
       "cx:ep1jmztcea6w2dtv4kax775yy:1sm7epvktvk6k                                       1.0   \n",
       "cx:i2i1zmdjyfqb4ugf:2x51wx1f20jgz                                                0.0   \n",
       "cx:ik8tj30jnl47bzl6:25hcdqs8lvpwa                                                0.0   \n",
       "\n",
       "                                            2a00c43cf84f7c433431027845505a0fdc77a55d  \\\n",
       "cx:il0sdznsjgg9uxgy:3bi2ksost85yi                                                1.0   \n",
       "cx:ijtjdxpz93t5f8m5:2iz9n4nuh22ky                                                0.0   \n",
       "cx:ep1jmztcea6w2dtv4kax775yy:1sm7epvktvk6k                                       0.0   \n",
       "cx:i2i1zmdjyfqb4ugf:2x51wx1f20jgz                                                0.0   \n",
       "cx:ik8tj30jnl47bzl6:25hcdqs8lvpwa                                                0.0   \n",
       "\n",
       "                                            7dbbd7f3a7ec287bdcbdaf8b8f042732074bf2bd  \\\n",
       "cx:il0sdznsjgg9uxgy:3bi2ksost85yi                                                1.0   \n",
       "cx:ijtjdxpz93t5f8m5:2iz9n4nuh22ky                                                1.0   \n",
       "cx:ep1jmztcea6w2dtv4kax775yy:1sm7epvktvk6k                                       0.0   \n",
       "cx:i2i1zmdjyfqb4ugf:2x51wx1f20jgz                                                0.0   \n",
       "cx:ik8tj30jnl47bzl6:25hcdqs8lvpwa                                                0.0   \n",
       "\n",
       "                                            d9670bfb1b63a9a13f1cae2b962671a9b00bfbdc  \\\n",
       "cx:il0sdznsjgg9uxgy:3bi2ksost85yi                                                1.0   \n",
       "cx:ijtjdxpz93t5f8m5:2iz9n4nuh22ky                                                0.0   \n",
       "cx:ep1jmztcea6w2dtv4kax775yy:1sm7epvktvk6k                                       0.0   \n",
       "cx:i2i1zmdjyfqb4ugf:2x51wx1f20jgz                                                0.0   \n",
       "cx:ik8tj30jnl47bzl6:25hcdqs8lvpwa                                                0.0   \n",
       "\n",
       "                                            9d615dd08d92c8e9670fb72b5c78cbc6b52501c4  \\\n",
       "cx:il0sdznsjgg9uxgy:3bi2ksost85yi                                                1.0   \n",
       "cx:ijtjdxpz93t5f8m5:2iz9n4nuh22ky                                                1.0   \n",
       "cx:ep1jmztcea6w2dtv4kax775yy:1sm7epvktvk6k                                       0.0   \n",
       "cx:i2i1zmdjyfqb4ugf:2x51wx1f20jgz                                                0.0   \n",
       "cx:ik8tj30jnl47bzl6:25hcdqs8lvpwa                                                1.0   \n",
       "\n",
       "                                            ...  \\\n",
       "cx:il0sdznsjgg9uxgy:3bi2ksost85yi           ...   \n",
       "cx:ijtjdxpz93t5f8m5:2iz9n4nuh22ky           ...   \n",
       "cx:ep1jmztcea6w2dtv4kax775yy:1sm7epvktvk6k  ...   \n",
       "cx:i2i1zmdjyfqb4ugf:2x51wx1f20jgz           ...   \n",
       "cx:ik8tj30jnl47bzl6:25hcdqs8lvpwa           ...   \n",
       "\n",
       "                                            dc9dd222a873ae3b1086bb3f493f01200684c2c0  \\\n",
       "cx:il0sdznsjgg9uxgy:3bi2ksost85yi                                                0.0   \n",
       "cx:ijtjdxpz93t5f8m5:2iz9n4nuh22ky                                                0.0   \n",
       "cx:ep1jmztcea6w2dtv4kax775yy:1sm7epvktvk6k                                       0.0   \n",
       "cx:i2i1zmdjyfqb4ugf:2x51wx1f20jgz                                                0.0   \n",
       "cx:ik8tj30jnl47bzl6:25hcdqs8lvpwa                                                0.0   \n",
       "\n",
       "                                            2e969849c5ba82897c9f3174fab4cc73873df5d9  \\\n",
       "cx:il0sdznsjgg9uxgy:3bi2ksost85yi                                                0.0   \n",
       "cx:ijtjdxpz93t5f8m5:2iz9n4nuh22ky                                                0.0   \n",
       "cx:ep1jmztcea6w2dtv4kax775yy:1sm7epvktvk6k                                       0.0   \n",
       "cx:i2i1zmdjyfqb4ugf:2x51wx1f20jgz                                                0.0   \n",
       "cx:ik8tj30jnl47bzl6:25hcdqs8lvpwa                                                0.0   \n",
       "\n",
       "                                            1ac6990130a256e5e1fa70dedbe0229230ee3e9f  \\\n",
       "cx:il0sdznsjgg9uxgy:3bi2ksost85yi                                                0.0   \n",
       "cx:ijtjdxpz93t5f8m5:2iz9n4nuh22ky                                                0.0   \n",
       "cx:ep1jmztcea6w2dtv4kax775yy:1sm7epvktvk6k                                       0.0   \n",
       "cx:i2i1zmdjyfqb4ugf:2x51wx1f20jgz                                                0.0   \n",
       "cx:ik8tj30jnl47bzl6:25hcdqs8lvpwa                                                0.0   \n",
       "\n",
       "                                            d8732776e778d6860c23a53f329afe574bf18eac  \\\n",
       "cx:il0sdznsjgg9uxgy:3bi2ksost85yi                                                0.0   \n",
       "cx:ijtjdxpz93t5f8m5:2iz9n4nuh22ky                                                0.0   \n",
       "cx:ep1jmztcea6w2dtv4kax775yy:1sm7epvktvk6k                                       0.0   \n",
       "cx:i2i1zmdjyfqb4ugf:2x51wx1f20jgz                                                0.0   \n",
       "cx:ik8tj30jnl47bzl6:25hcdqs8lvpwa                                                0.0   \n",
       "\n",
       "                                            ced8fbca1f11f3b9c5e3f1b3760f3e02c15c1ef0  \\\n",
       "cx:il0sdznsjgg9uxgy:3bi2ksost85yi                                                0.0   \n",
       "cx:ijtjdxpz93t5f8m5:2iz9n4nuh22ky                                                0.0   \n",
       "cx:ep1jmztcea6w2dtv4kax775yy:1sm7epvktvk6k                                       0.0   \n",
       "cx:i2i1zmdjyfqb4ugf:2x51wx1f20jgz                                                0.0   \n",
       "cx:ik8tj30jnl47bzl6:25hcdqs8lvpwa                                                0.0   \n",
       "\n",
       "                                            6ac7d1d4a39b7f289ecfcd1b25aa0ed9cb55d22c  \\\n",
       "cx:il0sdznsjgg9uxgy:3bi2ksost85yi                                                0.0   \n",
       "cx:ijtjdxpz93t5f8m5:2iz9n4nuh22ky                                                0.0   \n",
       "cx:ep1jmztcea6w2dtv4kax775yy:1sm7epvktvk6k                                       0.0   \n",
       "cx:i2i1zmdjyfqb4ugf:2x51wx1f20jgz                                                0.0   \n",
       "cx:ik8tj30jnl47bzl6:25hcdqs8lvpwa                                                0.0   \n",
       "\n",
       "                                            2cefd64c6d0d93d49794a2152b2bd40402b948d6  \\\n",
       "cx:il0sdznsjgg9uxgy:3bi2ksost85yi                                                0.0   \n",
       "cx:ijtjdxpz93t5f8m5:2iz9n4nuh22ky                                                0.0   \n",
       "cx:ep1jmztcea6w2dtv4kax775yy:1sm7epvktvk6k                                       0.0   \n",
       "cx:i2i1zmdjyfqb4ugf:2x51wx1f20jgz                                                0.0   \n",
       "cx:ik8tj30jnl47bzl6:25hcdqs8lvpwa                                                0.0   \n",
       "\n",
       "                                            6fad2102119187548e6ca5925f4b86a1167c76b1  \\\n",
       "cx:il0sdznsjgg9uxgy:3bi2ksost85yi                                                0.0   \n",
       "cx:ijtjdxpz93t5f8m5:2iz9n4nuh22ky                                                0.0   \n",
       "cx:ep1jmztcea6w2dtv4kax775yy:1sm7epvktvk6k                                       0.0   \n",
       "cx:i2i1zmdjyfqb4ugf:2x51wx1f20jgz                                                0.0   \n",
       "cx:ik8tj30jnl47bzl6:25hcdqs8lvpwa                                                0.0   \n",
       "\n",
       "                                            da2cf4c6f961e2c78f63a257c6484ebf7886acab  \\\n",
       "cx:il0sdznsjgg9uxgy:3bi2ksost85yi                                                0.0   \n",
       "cx:ijtjdxpz93t5f8m5:2iz9n4nuh22ky                                                0.0   \n",
       "cx:ep1jmztcea6w2dtv4kax775yy:1sm7epvktvk6k                                       0.0   \n",
       "cx:i2i1zmdjyfqb4ugf:2x51wx1f20jgz                                                0.0   \n",
       "cx:ik8tj30jnl47bzl6:25hcdqs8lvpwa                                                0.0   \n",
       "\n",
       "                                            da4b2f9f3ca150446cb320b70eb8839cb603a518  \n",
       "cx:il0sdznsjgg9uxgy:3bi2ksost85yi                                                0.0  \n",
       "cx:ijtjdxpz93t5f8m5:2iz9n4nuh22ky                                                0.0  \n",
       "cx:ep1jmztcea6w2dtv4kax775yy:1sm7epvktvk6k                                       0.0  \n",
       "cx:i2i1zmdjyfqb4ugf:2x51wx1f20jgz                                                0.0  \n",
       "cx:ik8tj30jnl47bzl6:25hcdqs8lvpwa                                                0.0  \n",
       "\n",
       "[5 rows x 7901 columns]"
      ],
      "text/html": "<div>\n<style scoped>\n    .dataframe tbody tr th:only-of-type {\n        vertical-align: middle;\n    }\n\n    .dataframe tbody tr th {\n        vertical-align: top;\n    }\n\n    .dataframe thead th {\n        text-align: right;\n    }\n</style>\n<table border=\"1\" class=\"dataframe\">\n  <thead>\n    <tr style=\"text-align: right;\">\n      <th></th>\n      <th>9f3999bd1a1a8d67bcb073ad54840f15cb30f014</th>\n      <th>ae167d304a4ef49e874389abcba68636b0011f85</th>\n      <th>735628ed2428f2a7b2a1b78f95f3c6d777e1865b</th>\n      <th>ca1952721582ff9e2b6d3555c26ee81a3f3f8fdb</th>\n      <th>7b98a1ddfc682d87d9f2f867a27406252773d548</th>\n      <th>70a19fd7c9f6827feb3eb4f3df95121664491fa7</th>\n      <th>2a00c43cf84f7c433431027845505a0fdc77a55d</th>\n      <th>7dbbd7f3a7ec287bdcbdaf8b8f042732074bf2bd</th>\n      <th>d9670bfb1b63a9a13f1cae2b962671a9b00bfbdc</th>\n      <th>9d615dd08d92c8e9670fb72b5c78cbc6b52501c4</th>\n      <th>...</th>\n      <th>dc9dd222a873ae3b1086bb3f493f01200684c2c0</th>\n      <th>2e969849c5ba82897c9f3174fab4cc73873df5d9</th>\n      <th>1ac6990130a256e5e1fa70dedbe0229230ee3e9f</th>\n      <th>d8732776e778d6860c23a53f329afe574bf18eac</th>\n      <th>ced8fbca1f11f3b9c5e3f1b3760f3e02c15c1ef0</th>\n      <th>6ac7d1d4a39b7f289ecfcd1b25aa0ed9cb55d22c</th>\n      <th>2cefd64c6d0d93d49794a2152b2bd40402b948d6</th>\n      <th>6fad2102119187548e6ca5925f4b86a1167c76b1</th>\n      <th>da2cf4c6f961e2c78f63a257c6484ebf7886acab</th>\n      <th>da4b2f9f3ca150446cb320b70eb8839cb603a518</th>\n    </tr>\n  </thead>\n  <tbody>\n    <tr>\n      <th>cx:il0sdznsjgg9uxgy:3bi2ksost85yi</th>\n      <td>1.0</td>\n      <td>1.0</td>\n      <td>1.0</td>\n      <td>1.0</td>\n      <td>1.0</td>\n      <td>1.0</td>\n      <td>1.0</td>\n      <td>1.0</td>\n      <td>1.0</td>\n      <td>1.0</td>\n      <td>...</td>\n      <td>0.0</td>\n      <td>0.0</td>\n      <td>0.0</td>\n      <td>0.0</td>\n      <td>0.0</td>\n      <td>0.0</td>\n      <td>0.0</td>\n      <td>0.0</td>\n      <td>0.0</td>\n      <td>0.0</td>\n    </tr>\n    <tr>\n      <th>cx:ijtjdxpz93t5f8m5:2iz9n4nuh22ky</th>\n      <td>1.0</td>\n      <td>0.0</td>\n      <td>1.0</td>\n      <td>1.0</td>\n      <td>0.0</td>\n      <td>1.0</td>\n      <td>0.0</td>\n      <td>1.0</td>\n      <td>0.0</td>\n      <td>1.0</td>\n      <td>...</td>\n      <td>0.0</td>\n      <td>0.0</td>\n      <td>0.0</td>\n      <td>0.0</td>\n      <td>0.0</td>\n      <td>0.0</td>\n      <td>0.0</td>\n      <td>0.0</td>\n      <td>0.0</td>\n      <td>0.0</td>\n    </tr>\n    <tr>\n      <th>cx:ep1jmztcea6w2dtv4kax775yy:1sm7epvktvk6k</th>\n      <td>1.0</td>\n      <td>0.0</td>\n      <td>0.0</td>\n      <td>1.0</td>\n      <td>1.0</td>\n      <td>1.0</td>\n      <td>0.0</td>\n      <td>0.0</td>\n      <td>0.0</td>\n      <td>0.0</td>\n      <td>...</td>\n      <td>0.0</td>\n      <td>0.0</td>\n      <td>0.0</td>\n      <td>0.0</td>\n      <td>0.0</td>\n      <td>0.0</td>\n      <td>0.0</td>\n      <td>0.0</td>\n      <td>0.0</td>\n      <td>0.0</td>\n    </tr>\n    <tr>\n      <th>cx:i2i1zmdjyfqb4ugf:2x51wx1f20jgz</th>\n      <td>1.0</td>\n      <td>0.0</td>\n      <td>1.0</td>\n      <td>0.0</td>\n      <td>1.0</td>\n      <td>0.0</td>\n      <td>0.0</td>\n      <td>0.0</td>\n      <td>0.0</td>\n      <td>0.0</td>\n      <td>...</td>\n      <td>0.0</td>\n      <td>0.0</td>\n      <td>0.0</td>\n      <td>0.0</td>\n      <td>0.0</td>\n      <td>0.0</td>\n      <td>0.0</td>\n      <td>0.0</td>\n      <td>0.0</td>\n      <td>0.0</td>\n    </tr>\n    <tr>\n      <th>cx:ik8tj30jnl47bzl6:25hcdqs8lvpwa</th>\n      <td>1.0</td>\n      <td>1.0</td>\n      <td>0.0</td>\n      <td>1.0</td>\n      <td>0.0</td>\n      <td>0.0</td>\n      <td>0.0</td>\n      <td>0.0</td>\n      <td>0.0</td>\n      <td>1.0</td>\n      <td>...</td>\n      <td>0.0</td>\n      <td>0.0</td>\n      <td>0.0</td>\n      <td>0.0</td>\n      <td>0.0</td>\n      <td>0.0</td>\n      <td>0.0</td>\n      <td>0.0</td>\n      <td>0.0</td>\n      <td>0.0</td>\n    </tr>\n  </tbody>\n</table>\n<p>5 rows × 7901 columns</p>\n</div>"
     },
     "metadata": {},
     "execution_count": 2
    }
   ],
   "source": [
    "%autoreload 2\n",
    "from ratingmatrix import rating_matrix_train_test_split\n",
    "\n",
    "df_user_profile = pd.read_pickle('data/matrix-df/user_profiles.pkl')\n",
    "df_user_profile.head()\n",
    "\n",
    "df_user_item = pd.read_pickle('data/matrix-df/user_item.pkl')\n",
    "df_user_item.head()\n",
    "\n",
    "\n",
    "# TODO, might need to rewrite the method too\n",
    "# train, test = rating_matrix_train_test_split(rm, fraction=0.2)"
   ]
  },
  {
   "source": [
    "# ! Here and outwards is currently a bit messy"
   ],
   "cell_type": "markdown",
   "metadata": {}
  },
  {
   "cell_type": "markdown",
   "metadata": {},
   "source": [
    "## Method"
   ]
  },
  {
   "cell_type": "code",
   "execution_count": null,
   "metadata": {},
   "outputs": [],
   "source": [
    "# from example_code.ExplicitMF import ExplicitMF as mf\n",
    "# from recommender_methods import plot_learning_curve"
   ]
  },
  {
   "cell_type": "code",
   "execution_count": null,
   "metadata": {},
   "outputs": [],
   "source": [
    "# train, test = X, y \n",
    "# mf_als = mf(train, n_factors=40, user_reg=0.0, item_reg=0.0)\n",
    "# iter_array = [1, 2, 5, 10, 25, 50, 100]\n",
    "# mf_als.calculate_learning_curve(iter_array, test)\n",
    "# # plot out learning curves\n",
    "# plot_learning_curve(iter_array, mf_als)"
   ]
  },
  {
   "cell_type": "markdown",
   "metadata": {},
   "source": [
    "## Content-based recommendation"
   ]
  },
  {
   "cell_type": "code",
   "execution_count": null,
   "metadata": {},
   "outputs": [],
   "source": [
    "# from recommender_methods import content_recommendation\n",
    "# from evaluation import evaluate\n",
    "# k = 20\n",
    "# y_pred, y = content_recommendation(df, k)\n",
    "\n",
    "# evaluate(y_pred, y, k)"
   ]
  },
  {
   "source": [
    "### Evaluate"
   ],
   "cell_type": "markdown",
   "metadata": {}
  },
  {
   "cell_type": "code",
   "execution_count": null,
   "metadata": {},
   "outputs": [],
   "source": []
  }
 ],
 "metadata": {
  "kernelspec": {
   "display_name": "Python 3",
   "language": "python",
   "name": "python3"
  },
  "language_info": {
   "codemirror_mode": {
    "name": "ipython",
    "version": 3
   },
   "file_extension": ".py",
   "mimetype": "text/x-python",
   "name": "python",
   "nbconvert_exporter": "python",
   "pygments_lexer": "ipython3",
   "version": "3.8.1-final"
  }
 },
 "nbformat": 4,
 "nbformat_minor": 2
}