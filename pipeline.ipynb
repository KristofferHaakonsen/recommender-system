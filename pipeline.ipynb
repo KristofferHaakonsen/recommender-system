{
 "cells": [
  {
   "cell_type": "markdown",
   "metadata": {},
   "source": [
    "### Global params"
   ]
  },
  {
   "cell_type": "code",
   "execution_count": 2,
   "metadata": {},
   "outputs": [],
   "source": [
    "%load_ext autoreload\n",
    "import pandas as pd\n",
    "k_closest_users = 2   # Number of closest-users"
   ]
  },
  {
   "cell_type": "markdown",
   "metadata": {},
   "source": [
    "### Pre-process"
   ]
  },
  {
   "cell_type": "code",
   "execution_count": 3,
   "metadata": {},
   "outputs": [
    {
     "output_type": "stream",
     "name": "stdout",
     "text": [
      "Wall time: 1min 9s\n"
     ]
    }
   ],
   "source": [
    "%%time\n",
    "%autoreload 2\n",
    "from ratingmatrix import rating_matrix\n",
    "from user_keywords import load_content_data, load_events_data, merge_on_docID, get_user_counts, get_user_profile\n",
    "\n",
    "df_content = load_content_data('data/content_refine')\n",
    "df_content = df_content.rename(columns={\"id\": \"documentId\"})\n",
    "# TODO: using num_days for testing\n",
    "df_events = load_events_data('data/active1000', num_days=None)\n",
    "df_events = df_events.drop(['title', 'publishtime'], axis=1)\n",
    "df_merged = merge_on_docID(df_events, df_content)\n",
    "df_user_frequencies = get_user_counts(df_merged)\n",
    "df_user_profile = get_user_profile(df_user_frequencies)\n",
    "df_user_profile.to_pickle('data/matrix-df/user_profiles.pkl')\n",
    "df_user_item = rating_matrix(df_events)\n",
    "df_user_item.to_pickle('data/matrix-df/user_item.pkl')\n"
   ]
  },
  {
   "source": [
    "### Load preprocessed matrices + train_test"
   ],
   "cell_type": "markdown",
   "metadata": {
    "tags": []
   }
  },
  {
   "cell_type": "code",
   "execution_count": 4,
   "metadata": {},
   "outputs": [],
   "source": [
    "%autoreload 2\n",
    "from ratingmatrix import rating_matrix_train_test_split\n",
    "\n",
    "df_user_profile = pd.read_pickle('data/matrix-df/user_profiles.pkl')\n",
    "df_user_profile.head()\n",
    "\n",
    "df_user_item = pd.read_pickle('data/matrix-df/user_item.pkl')\n",
    "df_user_item.head()\n",
    "\n",
    "index = df_user_item.index\n",
    "columns = df_user_item.columns\n",
    "train, test = rating_matrix_train_test_split(df_user_item.to_numpy(), fraction=0.2)\n",
    "\n",
    "# Train and test are disjoint (in terms of the 1-values)\n",
    "train = pd.DataFrame(data=train, index=index, columns=columns)\n",
    "test = pd.DataFrame(data=test, index=index, columns=columns)"
   ]
  },
  {
   "cell_type": "markdown",
   "metadata": {},
   "source": [
    "## Method\n"
   ]
  },
  {
   "cell_type": "code",
   "execution_count": 5,
   "outputs": [
    {
     "output_type": "stream",
     "name": "stdout",
     "text": [
      "Wall time: 8min 35s\n"
     ]
    },
    {
     "output_type": "execute_result",
     "data": {
      "text/plain": [
       "                                            9f3999bd1a1a8d67bcb073ad54840f15cb30f014  \\\n",
       "cx:il0sdznsjgg9uxgy:3bi2ksost85yi                                                0.0   \n",
       "cx:ijtjdxpz93t5f8m5:2iz9n4nuh22ky                                                0.0   \n",
       "cx:ep1jmztcea6w2dtv4kax775yy:1sm7epvktvk6k                                       0.0   \n",
       "cx:i2i1zmdjyfqb4ugf:2x51wx1f20jgz                                                1.0   \n",
       "cx:ik8tj30jnl47bzl6:25hcdqs8lvpwa                                                1.0   \n",
       "\n",
       "                                            ae167d304a4ef49e874389abcba68636b0011f85  \\\n",
       "cx:il0sdznsjgg9uxgy:3bi2ksost85yi                                                1.0   \n",
       "cx:ijtjdxpz93t5f8m5:2iz9n4nuh22ky                                                1.0   \n",
       "cx:ep1jmztcea6w2dtv4kax775yy:1sm7epvktvk6k                                       0.0   \n",
       "cx:i2i1zmdjyfqb4ugf:2x51wx1f20jgz                                                1.0   \n",
       "cx:ik8tj30jnl47bzl6:25hcdqs8lvpwa                                                0.0   \n",
       "\n",
       "                                            735628ed2428f2a7b2a1b78f95f3c6d777e1865b  \\\n",
       "cx:il0sdznsjgg9uxgy:3bi2ksost85yi                                                0.0   \n",
       "cx:ijtjdxpz93t5f8m5:2iz9n4nuh22ky                                                0.0   \n",
       "cx:ep1jmztcea6w2dtv4kax775yy:1sm7epvktvk6k                                       1.0   \n",
       "cx:i2i1zmdjyfqb4ugf:2x51wx1f20jgz                                                0.0   \n",
       "cx:ik8tj30jnl47bzl6:25hcdqs8lvpwa                                                1.0   \n",
       "\n",
       "                                            ca1952721582ff9e2b6d3555c26ee81a3f3f8fdb  \\\n",
       "cx:il0sdznsjgg9uxgy:3bi2ksost85yi                                                1.0   \n",
       "cx:ijtjdxpz93t5f8m5:2iz9n4nuh22ky                                                1.0   \n",
       "cx:ep1jmztcea6w2dtv4kax775yy:1sm7epvktvk6k                                       0.0   \n",
       "cx:i2i1zmdjyfqb4ugf:2x51wx1f20jgz                                                0.0   \n",
       "cx:ik8tj30jnl47bzl6:25hcdqs8lvpwa                                                0.0   \n",
       "\n",
       "                                            7b98a1ddfc682d87d9f2f867a27406252773d548  \\\n",
       "cx:il0sdznsjgg9uxgy:3bi2ksost85yi                                                0.0   \n",
       "cx:ijtjdxpz93t5f8m5:2iz9n4nuh22ky                                                0.0   \n",
       "cx:ep1jmztcea6w2dtv4kax775yy:1sm7epvktvk6k                                       0.0   \n",
       "cx:i2i1zmdjyfqb4ugf:2x51wx1f20jgz                                                0.0   \n",
       "cx:ik8tj30jnl47bzl6:25hcdqs8lvpwa                                                0.0   \n",
       "\n",
       "                                            70a19fd7c9f6827feb3eb4f3df95121664491fa7  \\\n",
       "cx:il0sdznsjgg9uxgy:3bi2ksost85yi                                                0.0   \n",
       "cx:ijtjdxpz93t5f8m5:2iz9n4nuh22ky                                                1.0   \n",
       "cx:ep1jmztcea6w2dtv4kax775yy:1sm7epvktvk6k                                       0.0   \n",
       "cx:i2i1zmdjyfqb4ugf:2x51wx1f20jgz                                                0.0   \n",
       "cx:ik8tj30jnl47bzl6:25hcdqs8lvpwa                                                0.0   \n",
       "\n",
       "                                            2a00c43cf84f7c433431027845505a0fdc77a55d  \\\n",
       "cx:il0sdznsjgg9uxgy:3bi2ksost85yi                                                0.0   \n",
       "cx:ijtjdxpz93t5f8m5:2iz9n4nuh22ky                                                1.0   \n",
       "cx:ep1jmztcea6w2dtv4kax775yy:1sm7epvktvk6k                                       0.0   \n",
       "cx:i2i1zmdjyfqb4ugf:2x51wx1f20jgz                                                1.0   \n",
       "cx:ik8tj30jnl47bzl6:25hcdqs8lvpwa                                                0.0   \n",
       "\n",
       "                                            7dbbd7f3a7ec287bdcbdaf8b8f042732074bf2bd  \\\n",
       "cx:il0sdznsjgg9uxgy:3bi2ksost85yi                                                0.0   \n",
       "cx:ijtjdxpz93t5f8m5:2iz9n4nuh22ky                                                0.0   \n",
       "cx:ep1jmztcea6w2dtv4kax775yy:1sm7epvktvk6k                                       0.0   \n",
       "cx:i2i1zmdjyfqb4ugf:2x51wx1f20jgz                                                1.0   \n",
       "cx:ik8tj30jnl47bzl6:25hcdqs8lvpwa                                                1.0   \n",
       "\n",
       "                                            d9670bfb1b63a9a13f1cae2b962671a9b00bfbdc  \\\n",
       "cx:il0sdznsjgg9uxgy:3bi2ksost85yi                                                0.0   \n",
       "cx:ijtjdxpz93t5f8m5:2iz9n4nuh22ky                                                1.0   \n",
       "cx:ep1jmztcea6w2dtv4kax775yy:1sm7epvktvk6k                                       0.0   \n",
       "cx:i2i1zmdjyfqb4ugf:2x51wx1f20jgz                                                0.0   \n",
       "cx:ik8tj30jnl47bzl6:25hcdqs8lvpwa                                                0.0   \n",
       "\n",
       "                                            9d615dd08d92c8e9670fb72b5c78cbc6b52501c4  \\\n",
       "cx:il0sdznsjgg9uxgy:3bi2ksost85yi                                                0.0   \n",
       "cx:ijtjdxpz93t5f8m5:2iz9n4nuh22ky                                                0.0   \n",
       "cx:ep1jmztcea6w2dtv4kax775yy:1sm7epvktvk6k                                       0.0   \n",
       "cx:i2i1zmdjyfqb4ugf:2x51wx1f20jgz                                                1.0   \n",
       "cx:ik8tj30jnl47bzl6:25hcdqs8lvpwa                                                0.0   \n",
       "\n",
       "                                            ...  \\\n",
       "cx:il0sdznsjgg9uxgy:3bi2ksost85yi           ...   \n",
       "cx:ijtjdxpz93t5f8m5:2iz9n4nuh22ky           ...   \n",
       "cx:ep1jmztcea6w2dtv4kax775yy:1sm7epvktvk6k  ...   \n",
       "cx:i2i1zmdjyfqb4ugf:2x51wx1f20jgz           ...   \n",
       "cx:ik8tj30jnl47bzl6:25hcdqs8lvpwa           ...   \n",
       "\n",
       "                                            ecbabf102a768c656b0f3c5311473502e8c0af46  \\\n",
       "cx:il0sdznsjgg9uxgy:3bi2ksost85yi                                                0.0   \n",
       "cx:ijtjdxpz93t5f8m5:2iz9n4nuh22ky                                                0.0   \n",
       "cx:ep1jmztcea6w2dtv4kax775yy:1sm7epvktvk6k                                       0.0   \n",
       "cx:i2i1zmdjyfqb4ugf:2x51wx1f20jgz                                                0.0   \n",
       "cx:ik8tj30jnl47bzl6:25hcdqs8lvpwa                                                0.0   \n",
       "\n",
       "                                            6b72989c492637215c966b0697137a63169e3d8e  \\\n",
       "cx:il0sdznsjgg9uxgy:3bi2ksost85yi                                                0.0   \n",
       "cx:ijtjdxpz93t5f8m5:2iz9n4nuh22ky                                                0.0   \n",
       "cx:ep1jmztcea6w2dtv4kax775yy:1sm7epvktvk6k                                       0.0   \n",
       "cx:i2i1zmdjyfqb4ugf:2x51wx1f20jgz                                                0.0   \n",
       "cx:ik8tj30jnl47bzl6:25hcdqs8lvpwa                                                0.0   \n",
       "\n",
       "                                            f9d69c516c52bf21c6ea6392074028460d344dd2  \\\n",
       "cx:il0sdznsjgg9uxgy:3bi2ksost85yi                                                0.0   \n",
       "cx:ijtjdxpz93t5f8m5:2iz9n4nuh22ky                                                0.0   \n",
       "cx:ep1jmztcea6w2dtv4kax775yy:1sm7epvktvk6k                                       0.0   \n",
       "cx:i2i1zmdjyfqb4ugf:2x51wx1f20jgz                                                0.0   \n",
       "cx:ik8tj30jnl47bzl6:25hcdqs8lvpwa                                                0.0   \n",
       "\n",
       "                                            8672d7148b5e2879a49e7d30032b5775a7b3b67c  \\\n",
       "cx:il0sdznsjgg9uxgy:3bi2ksost85yi                                                0.0   \n",
       "cx:ijtjdxpz93t5f8m5:2iz9n4nuh22ky                                                0.0   \n",
       "cx:ep1jmztcea6w2dtv4kax775yy:1sm7epvktvk6k                                       0.0   \n",
       "cx:i2i1zmdjyfqb4ugf:2x51wx1f20jgz                                                0.0   \n",
       "cx:ik8tj30jnl47bzl6:25hcdqs8lvpwa                                                0.0   \n",
       "\n",
       "                                            43135f601138a5402191191a208d27c53c3da371  \\\n",
       "cx:il0sdznsjgg9uxgy:3bi2ksost85yi                                                0.0   \n",
       "cx:ijtjdxpz93t5f8m5:2iz9n4nuh22ky                                                0.0   \n",
       "cx:ep1jmztcea6w2dtv4kax775yy:1sm7epvktvk6k                                       0.0   \n",
       "cx:i2i1zmdjyfqb4ugf:2x51wx1f20jgz                                                0.0   \n",
       "cx:ik8tj30jnl47bzl6:25hcdqs8lvpwa                                                0.0   \n",
       "\n",
       "                                            e175a205d1f88d5d1500af335a15602fa90249ed  \\\n",
       "cx:il0sdznsjgg9uxgy:3bi2ksost85yi                                                0.0   \n",
       "cx:ijtjdxpz93t5f8m5:2iz9n4nuh22ky                                                0.0   \n",
       "cx:ep1jmztcea6w2dtv4kax775yy:1sm7epvktvk6k                                       0.0   \n",
       "cx:i2i1zmdjyfqb4ugf:2x51wx1f20jgz                                                0.0   \n",
       "cx:ik8tj30jnl47bzl6:25hcdqs8lvpwa                                                0.0   \n",
       "\n",
       "                                            1d1f28e9bf0c9559c15afc4c26b2bc9b5935c55b  \\\n",
       "cx:il0sdznsjgg9uxgy:3bi2ksost85yi                                                0.0   \n",
       "cx:ijtjdxpz93t5f8m5:2iz9n4nuh22ky                                                0.0   \n",
       "cx:ep1jmztcea6w2dtv4kax775yy:1sm7epvktvk6k                                       0.0   \n",
       "cx:i2i1zmdjyfqb4ugf:2x51wx1f20jgz                                                0.0   \n",
       "cx:ik8tj30jnl47bzl6:25hcdqs8lvpwa                                                0.0   \n",
       "\n",
       "                                            3c302729ddf1deffb4562816ee27c40e19de650f  \\\n",
       "cx:il0sdznsjgg9uxgy:3bi2ksost85yi                                                0.0   \n",
       "cx:ijtjdxpz93t5f8m5:2iz9n4nuh22ky                                                0.0   \n",
       "cx:ep1jmztcea6w2dtv4kax775yy:1sm7epvktvk6k                                       0.0   \n",
       "cx:i2i1zmdjyfqb4ugf:2x51wx1f20jgz                                                0.0   \n",
       "cx:ik8tj30jnl47bzl6:25hcdqs8lvpwa                                                0.0   \n",
       "\n",
       "                                            0a471cc4f12cb9247ce6f4ad6a3b03e27254ac0c  \\\n",
       "cx:il0sdznsjgg9uxgy:3bi2ksost85yi                                                0.0   \n",
       "cx:ijtjdxpz93t5f8m5:2iz9n4nuh22ky                                                0.0   \n",
       "cx:ep1jmztcea6w2dtv4kax775yy:1sm7epvktvk6k                                       0.0   \n",
       "cx:i2i1zmdjyfqb4ugf:2x51wx1f20jgz                                                0.0   \n",
       "cx:ik8tj30jnl47bzl6:25hcdqs8lvpwa                                                0.0   \n",
       "\n",
       "                                            39574aa90590c97905445de3001ece8068493a93  \n",
       "cx:il0sdznsjgg9uxgy:3bi2ksost85yi                                                0.0  \n",
       "cx:ijtjdxpz93t5f8m5:2iz9n4nuh22ky                                                0.0  \n",
       "cx:ep1jmztcea6w2dtv4kax775yy:1sm7epvktvk6k                                       0.0  \n",
       "cx:i2i1zmdjyfqb4ugf:2x51wx1f20jgz                                                0.0  \n",
       "cx:ik8tj30jnl47bzl6:25hcdqs8lvpwa                                                0.0  \n",
       "\n",
       "[5 rows x 20344 columns]"
      ],
      "text/html": "<div>\n<style scoped>\n    .dataframe tbody tr th:only-of-type {\n        vertical-align: middle;\n    }\n\n    .dataframe tbody tr th {\n        vertical-align: top;\n    }\n\n    .dataframe thead th {\n        text-align: right;\n    }\n</style>\n<table border=\"1\" class=\"dataframe\">\n  <thead>\n    <tr style=\"text-align: right;\">\n      <th></th>\n      <th>9f3999bd1a1a8d67bcb073ad54840f15cb30f014</th>\n      <th>ae167d304a4ef49e874389abcba68636b0011f85</th>\n      <th>735628ed2428f2a7b2a1b78f95f3c6d777e1865b</th>\n      <th>ca1952721582ff9e2b6d3555c26ee81a3f3f8fdb</th>\n      <th>7b98a1ddfc682d87d9f2f867a27406252773d548</th>\n      <th>70a19fd7c9f6827feb3eb4f3df95121664491fa7</th>\n      <th>2a00c43cf84f7c433431027845505a0fdc77a55d</th>\n      <th>7dbbd7f3a7ec287bdcbdaf8b8f042732074bf2bd</th>\n      <th>d9670bfb1b63a9a13f1cae2b962671a9b00bfbdc</th>\n      <th>9d615dd08d92c8e9670fb72b5c78cbc6b52501c4</th>\n      <th>...</th>\n      <th>ecbabf102a768c656b0f3c5311473502e8c0af46</th>\n      <th>6b72989c492637215c966b0697137a63169e3d8e</th>\n      <th>f9d69c516c52bf21c6ea6392074028460d344dd2</th>\n      <th>8672d7148b5e2879a49e7d30032b5775a7b3b67c</th>\n      <th>43135f601138a5402191191a208d27c53c3da371</th>\n      <th>e175a205d1f88d5d1500af335a15602fa90249ed</th>\n      <th>1d1f28e9bf0c9559c15afc4c26b2bc9b5935c55b</th>\n      <th>3c302729ddf1deffb4562816ee27c40e19de650f</th>\n      <th>0a471cc4f12cb9247ce6f4ad6a3b03e27254ac0c</th>\n      <th>39574aa90590c97905445de3001ece8068493a93</th>\n    </tr>\n  </thead>\n  <tbody>\n    <tr>\n      <th>cx:il0sdznsjgg9uxgy:3bi2ksost85yi</th>\n      <td>0.0</td>\n      <td>1.0</td>\n      <td>0.0</td>\n      <td>1.0</td>\n      <td>0.0</td>\n      <td>0.0</td>\n      <td>0.0</td>\n      <td>0.0</td>\n      <td>0.0</td>\n      <td>0.0</td>\n      <td>...</td>\n      <td>0.0</td>\n      <td>0.0</td>\n      <td>0.0</td>\n      <td>0.0</td>\n      <td>0.0</td>\n      <td>0.0</td>\n      <td>0.0</td>\n      <td>0.0</td>\n      <td>0.0</td>\n      <td>0.0</td>\n    </tr>\n    <tr>\n      <th>cx:ijtjdxpz93t5f8m5:2iz9n4nuh22ky</th>\n      <td>0.0</td>\n      <td>1.0</td>\n      <td>0.0</td>\n      <td>1.0</td>\n      <td>0.0</td>\n      <td>1.0</td>\n      <td>1.0</td>\n      <td>0.0</td>\n      <td>1.0</td>\n      <td>0.0</td>\n      <td>...</td>\n      <td>0.0</td>\n      <td>0.0</td>\n      <td>0.0</td>\n      <td>0.0</td>\n      <td>0.0</td>\n      <td>0.0</td>\n      <td>0.0</td>\n      <td>0.0</td>\n      <td>0.0</td>\n      <td>0.0</td>\n    </tr>\n    <tr>\n      <th>cx:ep1jmztcea6w2dtv4kax775yy:1sm7epvktvk6k</th>\n      <td>0.0</td>\n      <td>0.0</td>\n      <td>1.0</td>\n      <td>0.0</td>\n      <td>0.0</td>\n      <td>0.0</td>\n      <td>0.0</td>\n      <td>0.0</td>\n      <td>0.0</td>\n      <td>0.0</td>\n      <td>...</td>\n      <td>0.0</td>\n      <td>0.0</td>\n      <td>0.0</td>\n      <td>0.0</td>\n      <td>0.0</td>\n      <td>0.0</td>\n      <td>0.0</td>\n      <td>0.0</td>\n      <td>0.0</td>\n      <td>0.0</td>\n    </tr>\n    <tr>\n      <th>cx:i2i1zmdjyfqb4ugf:2x51wx1f20jgz</th>\n      <td>1.0</td>\n      <td>1.0</td>\n      <td>0.0</td>\n      <td>0.0</td>\n      <td>0.0</td>\n      <td>0.0</td>\n      <td>1.0</td>\n      <td>1.0</td>\n      <td>0.0</td>\n      <td>1.0</td>\n      <td>...</td>\n      <td>0.0</td>\n      <td>0.0</td>\n      <td>0.0</td>\n      <td>0.0</td>\n      <td>0.0</td>\n      <td>0.0</td>\n      <td>0.0</td>\n      <td>0.0</td>\n      <td>0.0</td>\n      <td>0.0</td>\n    </tr>\n    <tr>\n      <th>cx:ik8tj30jnl47bzl6:25hcdqs8lvpwa</th>\n      <td>1.0</td>\n      <td>0.0</td>\n      <td>1.0</td>\n      <td>0.0</td>\n      <td>0.0</td>\n      <td>0.0</td>\n      <td>0.0</td>\n      <td>1.0</td>\n      <td>0.0</td>\n      <td>0.0</td>\n      <td>...</td>\n      <td>0.0</td>\n      <td>0.0</td>\n      <td>0.0</td>\n      <td>0.0</td>\n      <td>0.0</td>\n      <td>0.0</td>\n      <td>0.0</td>\n      <td>0.0</td>\n      <td>0.0</td>\n      <td>0.0</td>\n    </tr>\n  </tbody>\n</table>\n<p>5 rows × 20344 columns</p>\n</div>"
     },
     "metadata": {},
     "execution_count": 5
    }
   ],
   "source": [
    "%%time\n",
    "from recommender_methods import collaborative_filtering_user_based\n",
    "\n",
    "# List with users and their recommended articles\n",
    "recommendations = []\n",
    "\n",
    "# The number of requests for recommendations\n",
    "num_recommendations = 0\n",
    "\n",
    "# Returns a list with recommended articles\n",
    "#for user in range(len(df_user_profile.index)):\n",
    "for user in range(len(df_user_profile.index)):\n",
    "    num_recommendations += 1\n",
    "    recommended = collaborative_filtering_user_based(df_user_profile, train, train.index[user], k_closest_users)\n",
    "    recommendations.append(recommended)\n",
    "\n",
    "predict = test.copy(deep=True)\n",
    "predict[:] = 0.0\n",
    "for user in recommendations:\n",
    "    for article in user['articles']:\n",
    "        predict.at[user['user_id'], article] = 1.0\n",
    "\n",
    "predict.head()\n"
   ],
   "metadata": {
    "collapsed": false,
    "pycharm": {
     "name": "#%%\n"
    }
   }
  },
  {
   "cell_type": "code",
   "execution_count": 16,
   "metadata": {
    "tags": []
   },
   "outputs": [
    {
     "output_type": "stream",
     "name": "stdout",
     "text": [
      "\n",
      "Average recall@5 is 0.0030\n",
      "Normal recall@5 is 0.3970\n",
      "ARHR@5 is 0.2111\n",
      "CTR@5 is 7.9400%\n",
      "\n",
      "Average recall@10 is 0.0051\n",
      "Normal recall@10 is 0.6660\n",
      "ARHR@10 is 0.2450\n",
      "CTR@10 is 6.6600%\n",
      "\n",
      "Average recall@20 is 0.0096\n",
      "Normal recall@20 is 1.2410\n",
      "ARHR@20 is 0.2830\n",
      "CTR@20 is 6.2050%\n",
      "\n",
      "Average recall@100 is 0.0474\n",
      "Normal recall@100 is 6.1770\n",
      "ARHR@100 is 0.3821\n",
      "CTR@100 is 6.1770%\n",
      "\n",
      "Average recall is 0.4272\n",
      "Normal recall is 58.6590\n",
      "ARHR is 0.5192\n",
      "CTR is 6.2282%\n"
     ]
    }
   ],
   "source": [
    "from evaluation import evaluate\n",
    "evaluate(recommendations, test, 5)\n",
    "evaluate(recommendations, test, 10)\n",
    "evaluate(recommendations, test, 20)\n",
    "evaluate(recommendations, test, 100)\n",
    "evaluate(recommendations, test)\n",
    "\n",
    "\n",
    "\n"
   ]
  },
  {
   "cell_type": "code",
   "execution_count": null,
   "metadata": {},
   "outputs": [],
   "source": []
  }
 ],
 "metadata": {
  "kernelspec": {
   "name": "python392jvsc74a57bd05df14fc3432d315c595d7773258ee88376bdd6254a1cb99747ba5fe6daf670ef",
   "display_name": "Python 3.9.2 64-bit"
  },
  "language_info": {
   "codemirror_mode": {
    "name": "ipython",
    "version": 3
   },
   "file_extension": ".py",
   "mimetype": "text/x-python",
   "name": "python",
   "nbconvert_exporter": "python",
   "pygments_lexer": "ipython3",
   "version": "3.9.2"
  }
 },
 "nbformat": 4,
 "nbformat_minor": 2
}